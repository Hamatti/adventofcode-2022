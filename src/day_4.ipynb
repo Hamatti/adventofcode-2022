{
 "cells": [
  {
   "cell_type": "markdown",
   "id": "daf08903",
   "metadata": {},
   "source": [
    "# Day 4 - Camp Cleanup\n",
    "\n",
    ">Space needs to be cleared before the last supplies can be unloaded from the ships, and so several Elves have been assigned the job of cleaning up sections of the camp. Every section has a unique ID number, and each Elf is assigned a range of section IDs.\n",
    ">\n",
    ">However, as some of the Elves compare their section assignments with each other, they've noticed that many of the assignments overlap. To try to quickly find overlaps and reduce duplicated effort, the Elves pair up and make a big list of the section assignments for each pair (your puzzle input).\n",
    ">\n",
    ">For example, consider the following list of section assignment pairs:\n",
    ">```\n",
    ">2-4,6-8\n",
    ">2-3,4-5\n",
    ">5-7,7-9\n",
    ">2-8,3-7\n",
    ">6-6,4-6\n",
    ">2-6,4-8\n",
    ">```\n",
    ">For the first few pairs, this list means:\n",
    ">\n",
    ">- Within the first pair of Elves, the first Elf was assigned sections 2-4 (sections 2, 3, and 4), while the second Elf was assigned sections 6-8 (sections 6, 7, 8).\n",
    ">- The Elves in the second pair were each assigned two sections.\n",
    ">- The Elves in the third pair were each assigned three sections: one got sections 5, 6, and 7, while the other also got 7, plus 8 and 9.\n",
    ">\n",
    ">This example list uses single-digit section IDs to make it easier to draw; your actual list might contain larger numbers. Visually, these pairs of section assignments look like this:\n",
    ">```\n",
    ">.234.....  2-4\n",
    ">.....678.  6-8\n",
    ">\n",
    ">.23......  2-3\n",
    ">...45....  4-5\n",
    ">\n",
    ">....567..  5-7\n",
    ">......789  7-9\n",
    ">\n",
    ">.2345678.  2-8\n",
    ">..34567..  3-7\n",
    ">\n",
    ">.....6...  6-6\n",
    ">...456...  4-6\n",
    ">\n",
    ">.23456...  2-6\n",
    ">...45678.  4-8\n",
    ">```\n",
    ">Some of the pairs have noticed that one of their assignments fully contains the other. For example, 2-8 fully contains 3-7, and 6-6 is fully contained by 4-6. In pairs where one assignment fully contains the other, one Elf in the pair would be exclusively cleaning sections their partner will already be cleaning, so these seem like the most in need of reconsideration. In this example, there are 2 such pairs.\n",
    ">"
   ]
  },
  {
   "cell_type": "markdown",
   "id": "c1dd2f35",
   "metadata": {},
   "source": [
    "## Read input\n",
    "\n",
    "When ever I see ranges in the description, I want to import one of my favorite data structures in Python: [namedtuples](#). They are a subset of tuples that are compatible with any code that operates on tuples but provides a few extra goodies, namely named attributes and debug printing.\n",
    "\n",
    "Our ranges here have two values: start point and end point."
   ]
  },
  {
   "cell_type": "code",
   "execution_count": 16,
   "id": "9f68a64a",
   "metadata": {},
   "outputs": [],
   "source": [
    "from utils import read_input\n",
    "from collections import namedtuple\n",
    "\n",
    "Range = namedtuple('Range', ['start', 'end'])\n",
    "\n",
    "def transformer(line):\n",
    "    first, second = line.split(',')\n",
    "    x0, x1 = [int(x) for x in first.split('-')]\n",
    "    y0, y1 = [int(x) for x in second.split('-')]\n",
    "    return (Range(x0, x1), Range(y0, y1))\n",
    "\n",
    "data = read_input(4, transformer)"
   ]
  },
  {
   "cell_type": "markdown",
   "id": "18503864",
   "metadata": {},
   "source": [
    "To find whether two ranges are such that one range fully contains another range, we need to check if the start/end values of one are within the boundaries of the start/end values of the other."
   ]
  },
  {
   "cell_type": "code",
   "execution_count": 36,
   "id": "1d91716f",
   "metadata": {},
   "outputs": [],
   "source": [
    "def fully_contained(x, y):\n",
    "    \"\"\"\n",
    "    >>> fully_contained(Range(1, 5), Range(2, 3))\n",
    "    True\n",
    "    >>> fully_contained(Range(6, 6), Range(4, 6))\n",
    "    True\n",
    "    >>> fully_contained(Range(1, 2), Range(2, 3))\n",
    "    False\n",
    "    \"\"\"\n",
    "    if x.start <= y.start and x.end >= y.end:\n",
    "        return True\n",
    "    if y.start <= x.start and y.end >= x.end:\n",
    "        return True\n",
    "    return False"
   ]
  },
  {
   "cell_type": "markdown",
   "id": "fc352cc8",
   "metadata": {},
   "source": [
    ">**In how many assignment pairs does one range fully contain the other?**\n",
    "\n",
    "We can calculate the sum directly from a list or generator of booleans and it will count `True` as 1 and `False` as 0.\n",
    "\n",
    "By using the spread operator (`*`) with our tuples, we don't need to touch the individual attributes nor indices. `*pair` is the same as `pair[0], pair[1]` or `pair.start, pair.end`."
   ]
  },
  {
   "cell_type": "code",
   "execution_count": 23,
   "id": "df2dab69",
   "metadata": {},
   "outputs": [
    {
     "name": "stdout",
     "output_type": "stream",
     "text": [
      "Part 1: 500\n"
     ]
    }
   ],
   "source": [
    "solution_1 = sum(fully_contained(*pair) for pair in data)\n",
    "print(f'Part 1: {solution_1}')\n",
    "assert solution_1 == 500"
   ]
  },
  {
   "cell_type": "markdown",
   "id": "c2258d55",
   "metadata": {},
   "source": [
    "## Part 2\n",
    "\n",
    ">It seems like there is still quite a bit of duplicate work planned. Instead, the Elves would like to know the number of pairs that overlap at all.\n",
    ">\n",
    ">In the above example, the first two pairs (2-4,6-8 and 2-3,4-5) don't overlap, while the remaining four pairs (5-7,7-9, 2-8,3-7, 6-6,4-6, and 2-6,4-8) do overlap:\n",
    ">\n",
    ">- 5-7,7-9 overlaps in a single section, 7.\n",
    ">- 2-8,3-7 overlaps all of the sections 3 through 7.\n",
    ">- 6-6,4-6 overlaps in a single section, 6.\n",
    ">- 2-6,4-8 overlaps in sections 4, 5, and 6.\n",
    ">\n",
    ">So, in this example, the number of overlapping assignment pairs is 4.\n",
    "\n",
    "For the second part, we need to check a bit more. Now it's enough that either start or end value of one is within the boundaries of the start/end range of the other."
   ]
  },
  {
   "cell_type": "code",
   "execution_count": 33,
   "id": "060f5044",
   "metadata": {},
   "outputs": [],
   "source": [
    "def overlap(x, y):\n",
    "    \"\"\"\n",
    "    >>> overlap(Range(1, 5), Range(2, 3))\n",
    "    True\n",
    "    >>> overlap(Range(6, 6), Range(4, 6))\n",
    "    True\n",
    "    >>> overlap(Range(1, 2), Range(2, 3))\n",
    "    True\n",
    "    >>> overlap(Range(1, 2), Range(4, 5))\n",
    "    False\n",
    "    \"\"\"\n",
    "    return (\n",
    "        y.start <= x.start <= y.end or \n",
    "        y.start <= x.end <= y.end or\n",
    "        x.start <= y.start <= x.end or \n",
    "        x.start <= y.end <= x.end)"
   ]
  },
  {
   "cell_type": "markdown",
   "id": "c5bc6c79",
   "metadata": {},
   "source": [
    ">**In how many assignment pairs do the ranges overlap?**"
   ]
  },
  {
   "cell_type": "code",
   "execution_count": 27,
   "id": "e8da3f20",
   "metadata": {},
   "outputs": [
    {
     "name": "stdout",
     "output_type": "stream",
     "text": [
      "Part 2: 815\n"
     ]
    }
   ],
   "source": [
    "solution_2 = sum(1 for pair in data if overlap(*pair))\n",
    "print(f'Part 2: {solution_2}')\n",
    "assert solution_2 == 815"
   ]
  },
  {
   "cell_type": "markdown",
   "id": "5712a1c6",
   "metadata": {},
   "source": [
    "## Appendix A - Quick solution\n",
    "\n",
    "When I was originally solving this day's puzzles, I was in a hurry to catch a train and just wanted to get a quick answer to a) check that my solution worked and b) to get the star into the system as I wasn't sure if I'd have internet on the train.\n",
    "\n",
    "For part 2, instead of thinking hard on what if conditions I'd need, I decided to turn the ranges into sets and checking for common items."
   ]
  },
  {
   "cell_type": "code",
   "execution_count": 44,
   "id": "a9740f4c",
   "metadata": {},
   "outputs": [],
   "source": [
    "def set_overlap(x, y):\n",
    "    \"\"\"\n",
    "    >>> set_overlap(Range(1, 5), Range(2, 3))\n",
    "    True\n",
    "    >>> set_overlap(Range(6, 6), Range(4, 6))\n",
    "    True\n",
    "    >>> set_overlap(Range(1, 2), Range(2, 3))\n",
    "    True\n",
    "    >>> set_overlap(Range(1, 2), Range(4, 5))\n",
    "    False\n",
    "    \"\"\"\n",
    "    return len(set(range(x.start, x.end+1)) & set(range(y.start, y.end+1))) > 0"
   ]
  },
  {
   "cell_type": "markdown",
   "id": "f9ed1114",
   "metadata": {},
   "source": [
    "This works but for ranges where the difference between start and end is huge, it will create very large sets when all we really need are two numbers for each range. Also, since the `range` function does not include the end argument (ie. `range(1, 5)` is `(1, 2, 3, 4)`, I couldn't do a more beautiful looking\n",
    "\n",
    "```\n",
    "return len(set(range(*x)) & set(range(*y)))\n",
    "```"
   ]
  },
  {
   "cell_type": "code",
   "execution_count": 45,
   "id": "2be7ef97",
   "metadata": {},
   "outputs": [
    {
     "data": {
      "text/plain": [
       "TestResults(failed=0, attempted=15)"
      ]
     },
     "execution_count": 45,
     "metadata": {},
     "output_type": "execute_result"
    }
   ],
   "source": [
    "import doctest\n",
    "doctest.testmod()"
   ]
  }
 ],
 "metadata": {
  "kernelspec": {
   "display_name": "Python 3 (ipykernel)",
   "language": "python",
   "name": "python3"
  },
  "language_info": {
   "codemirror_mode": {
    "name": "ipython",
    "version": 3
   },
   "file_extension": ".py",
   "mimetype": "text/x-python",
   "name": "python",
   "nbconvert_exporter": "python",
   "pygments_lexer": "ipython3",
   "version": "3.10.0"
  }
 },
 "nbformat": 4,
 "nbformat_minor": 5
}
