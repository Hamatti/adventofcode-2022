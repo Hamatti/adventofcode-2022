{
 "cells": [
  {
   "cell_type": "markdown",
   "id": "635d000e",
   "metadata": {},
   "source": [
    "# Day 9 - Rope Bridge"
   ]
  },
  {
   "cell_type": "markdown",
   "id": "c656a212",
   "metadata": {},
   "source": [
    "## Read input"
   ]
  },
  {
   "cell_type": "code",
   "execution_count": 22,
   "id": "fb605dc4",
   "metadata": {},
   "outputs": [],
   "source": [
    "from utils import read_input\n",
    "from collections import namedtuple\n",
    "\n",
    "Step = namedtuple('Step', ['direction', 'distance'])\n",
    "\n",
    "def transformer(line):\n",
    "    direction, distance = line.split(' ')\n",
    "    return Step(direction, int(distance))\n",
    "\n",
    "steps = read_input(9, transformer)\n",
    "example = read_input(9, transformer, True)"
   ]
  },
  {
   "cell_type": "markdown",
   "id": "d7abf60f",
   "metadata": {},
   "source": [
    "## Part 1"
   ]
  },
  {
   "cell_type": "code",
   "execution_count": 23,
   "id": "ede55656",
   "metadata": {},
   "outputs": [
    {
     "data": {
      "text/plain": [
       "6357"
      ]
     },
     "execution_count": 23,
     "metadata": {},
     "output_type": "execute_result"
    }
   ],
   "source": [
    "from collections import namedtuple\n",
    "\n",
    "Position = namedtuple('Position', ['x', 'y'])\n",
    "\n",
    "def is_adjacent(head, tail):\n",
    "    return abs(head.x - tail.x) <= 1 and abs(head.y - tail.y) <= 1\n",
    "\n",
    "def move(head, tail, step):\n",
    "    match step.direction:\n",
    "        case 'U':\n",
    "            new_head = Position(head.x, head.y - 1)\n",
    "            if(is_adjacent(new_head, tail)):\n",
    "                new_tail = tail\n",
    "            else:\n",
    "                new_tail = Position(new_head.x, new_head.y + 1)\n",
    "        case 'D':\n",
    "            new_head = Position(head.x, head.y + 1)\n",
    "            if(is_adjacent(new_head, tail)):\n",
    "                new_tail = tail\n",
    "            else:\n",
    "                new_tail = Position(new_head.x, new_head.y - 1)\n",
    "        case 'L':\n",
    "            new_head = Position(head.x-1, head.y)\n",
    "            if(is_adjacent(new_head, tail)):\n",
    "                new_tail = tail\n",
    "            else:\n",
    "                new_tail = Position(new_head.x + 1, new_head.y)\n",
    "        case 'R':\n",
    "            new_head = Position(head.x + 1, head.y)\n",
    "            if(is_adjacent(new_head, tail)):\n",
    "                new_tail = tail\n",
    "            else:\n",
    "                new_tail = Position(new_head.x - 1, new_head.y)\n",
    "    return new_head, new_tail\n",
    "\n",
    "def traverse(steps):\n",
    "    head = Position(0, 0)\n",
    "    tail = Position(0, 0)\n",
    "    tail_spots = set()\n",
    "    \n",
    "    for step in steps:\n",
    "        for i in range(step.distance):\n",
    "            head, tail = move(head, tail, step)\n",
    "            tail_spots.add(tail)\n",
    "            \n",
    "    return tail_spots\n",
    "        \n",
    "len(traverse(steps))"
   ]
  }
 ],
 "metadata": {
  "kernelspec": {
   "display_name": "Python 3 (ipykernel)",
   "language": "python",
   "name": "python3"
  },
  "language_info": {
   "codemirror_mode": {
    "name": "ipython",
    "version": 3
   },
   "file_extension": ".py",
   "mimetype": "text/x-python",
   "name": "python",
   "nbconvert_exporter": "python",
   "pygments_lexer": "ipython3",
   "version": "3.10.0"
  }
 },
 "nbformat": 4,
 "nbformat_minor": 5
}
