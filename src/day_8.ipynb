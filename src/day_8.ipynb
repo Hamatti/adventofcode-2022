{
 "cells": [
  {
   "cell_type": "markdown",
   "id": "5b304f30",
   "metadata": {},
   "source": [
    "# Day 8"
   ]
  },
  {
   "cell_type": "code",
   "execution_count": 34,
   "id": "def438f0",
   "metadata": {},
   "outputs": [],
   "source": [
    "from utils import read_input\n",
    "\n",
    "def transformer(line):\n",
    "    row = []\n",
    "    for num in line:\n",
    "        row.append(int(num))\n",
    "    return row\n",
    "\n",
    "forest = read_input(8, transformer)\n",
    "example = read_input(8, transformer, True)"
   ]
  },
  {
   "cell_type": "code",
   "execution_count": 25,
   "id": "1e4ca9be",
   "metadata": {},
   "outputs": [],
   "source": [
    "def find_visible_count(forest):\n",
    "    edges = 0, len(forest) - 1\n",
    "    is_visible = []\n",
    "    for y in range(edges[0], edges[1]+1):\n",
    "        for x in range(edges[0], edges[1]+1):\n",
    "            value = forest[y][x]\n",
    "            # All the ones on the edges are visible\n",
    "            if y in edges or x in edges:\n",
    "                is_visible.append(value)\n",
    "                continue\n",
    "            from_left = len([tree for tree in forest[y][:x] if tree >= value]) == 0\n",
    "            from_right = len([tree for tree in forest[y][x+1:] if tree >= value]) == 0\n",
    "            if from_left or from_right:\n",
    "                is_visible.append(value)\n",
    "                continue\n",
    "\n",
    "            t_forest = list(zip(*forest))\n",
    "            from_top = len([tree for tree in t_forest[x][:y] if tree >= value]) == 0\n",
    "            from_bottom = len([tree for tree in t_forest[x][y+1:] if tree >= value]) == 0\n",
    "            if from_top or from_bottom:\n",
    "                is_visible.append(value)\n",
    "                continue\n",
    "    return(len(is_visible))"
   ]
  },
  {
   "cell_type": "code",
   "execution_count": 31,
   "id": "4d2c12d9",
   "metadata": {},
   "outputs": [
    {
     "name": "stdout",
     "output_type": "stream",
     "text": [
      "Part 1: 1840\n"
     ]
    }
   ],
   "source": [
    "solution_1 = find_visible_count(forest)\n",
    "print(f'Part 1: {solution_1}')\n",
    "assert solution_1 == 1840"
   ]
  },
  {
   "cell_type": "markdown",
   "id": "87446a70",
   "metadata": {},
   "source": [
    "## Part 2"
   ]
  },
  {
   "cell_type": "code",
   "execution_count": 53,
   "id": "cdb77945",
   "metadata": {},
   "outputs": [],
   "source": [
    "def scenic_score(pos, forest):\n",
    "    y, x = pos\n",
    "    value = forest[y][x]\n",
    "    left, right, top, bottom = 0, 0, 0, 0\n",
    "    while x != 0:\n",
    "        left += 1\n",
    "        if forest[y][x-1] >= value:\n",
    "            break\n",
    "        x -= 1\n",
    "    \n",
    "    y, x = pos\n",
    "    while x != len(forest) - 1:\n",
    "        right += 1\n",
    "        if forest[y][x+1] >= value:\n",
    "            break\n",
    "        x += 1\n",
    "        \n",
    "    y, x = pos\n",
    "    while y != 0:\n",
    "        top += 1\n",
    "        if forest[y-1][x] >= value:\n",
    "            break\n",
    "        y -= 1\n",
    "    \n",
    "    y, x = pos\n",
    "    while y != len(forest) - 1:\n",
    "        bottom += 1\n",
    "        if forest[y+1][x] >= value:\n",
    "            break\n",
    "        y += 1\n",
    "\n",
    "    return left * right * top * bottom\n",
    "\n",
    "def find_highest_scenic_score(forest):\n",
    "    highest = 0\n",
    "    for y in range(0, len(forest)):\n",
    "        for x in range(0, len(forest)):\n",
    "            score = scenic_score((y, x), forest)\n",
    "            if score > highest:\n",
    "                highest = score\n",
    "    return highest"
   ]
  },
  {
   "cell_type": "code",
   "execution_count": 56,
   "id": "b79345e8",
   "metadata": {},
   "outputs": [
    {
     "name": "stdout",
     "output_type": "stream",
     "text": [
      "Part 2: 405769\n"
     ]
    }
   ],
   "source": [
    "highest_score = find_highest_scenic_score(forest)\n",
    "print(f'Part 2: {highest_score}')\n",
    "assert highest_score == 405769"
   ]
  }
 ],
 "metadata": {
  "kernelspec": {
   "display_name": "Python 3 (ipykernel)",
   "language": "python",
   "name": "python3"
  },
  "language_info": {
   "codemirror_mode": {
    "name": "ipython",
    "version": 3
   },
   "file_extension": ".py",
   "mimetype": "text/x-python",
   "name": "python",
   "nbconvert_exporter": "python",
   "pygments_lexer": "ipython3",
   "version": "3.10.0"
  }
 },
 "nbformat": 4,
 "nbformat_minor": 5
}
