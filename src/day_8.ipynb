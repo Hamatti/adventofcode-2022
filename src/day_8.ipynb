{
 "cells": [
  {
   "cell_type": "markdown",
   "id": "5b304f30",
   "metadata": {},
   "source": [
    "# Day 8 - Treetop Tree House\n",
    "\n",
    "> The expedition comes across a peculiar patch of tall trees all planted carefully in a grid. The Elves explain that a previous expedition planted these trees as a reforestation effort. Now, they're curious if this would be a good location for a tree house.\n",
    ">\n",
    ">First, determine whether there is enough tree cover here to keep a tree house hidden. To do this, you need to count the number of trees that are visible from outside the grid when looking directly along a row or column.\n",
    ">\n",
    ">The Elves have already launched a quadcopter to generate a map with the height of each tree (your puzzle input). For example:\n",
    ">```\n",
    ">30373\n",
    ">25512\n",
    ">65332\n",
    ">33549\n",
    ">35390\n",
    ">```\n",
    ">Each tree is represented as a single digit whose value is its height, where 0 is the shortest and 9 is the tallest.\n",
    ">\n",
    ">A tree is visible if all of the other trees between it and an edge of the grid are shorter than it. Only consider trees in the same row or column; that is, only look up, down, left, or right from any given tree.\n",
    ">\n",
    ">All of the trees around the edge of the grid are visible - since they are already on the edge, there are no trees to block the view. In this example, that only leaves the interior nine trees to consider:\n",
    ">\n",
    ">- The top-left 5 is visible from the left and top. (It isn't visible from the right or bottom since other trees of height 5 are in the way.)\n",
    ">- The top-middle 5 is visible from the top and right.\n",
    ">- The top-right 1 is not visible from any direction; for it to be visible, there would need to only be trees of height 0 between it and an edge.\n",
    ">- The left-middle 5 is visible, but only from the right.\n",
    ">- The center 3 is not visible from any direction; for it to be visible, there would need to be only trees of at most height 2 between it and an edge.\n",
    ">- The right-middle 3 is visible from the right.\n",
    ">- In the bottom row, the middle 5 is visible, but the 3 and 4 are not.\n",
    ">\n",
    ">With 16 trees visible on the edge and another 5 visible in the interior, a total of 21 trees are visible in this arrangement.\n",
    "\n",
    "Today's puzzle was interesting and I ended up going with a very straight-forward bruteforce method."
   ]
  },
  {
   "cell_type": "markdown",
   "id": "0a9e09d2",
   "metadata": {},
   "source": [
    "## Read input\n",
    "\n",
    "Since we need to numerically compare numbers from different cells, I'm reading the input into a 2-dimensional array of integers."
   ]
  },
  {
   "cell_type": "code",
   "execution_count": 63,
   "id": "def438f0",
   "metadata": {},
   "outputs": [],
   "source": [
    "from utils import read_input\n",
    "\n",
    "def transformer(line):\n",
    "    return [int(num) for num in line]\n",
    "\n",
    "forest = read_input(8, transformer)\n",
    "example = read_input(8, transformer, True)"
   ]
  },
  {
   "cell_type": "markdown",
   "id": "02d31c40",
   "metadata": {},
   "source": [
    "## Part 1\n",
    "\n",
    "> **Consider your map; how many trees are visible from outside the grid?**\n",
    "\n",
    "Firstly, everything on the edges is visible so I'm dealing with that case right away.\n",
    "\n",
    "Then I use way too many loops to check each tree separately to the left and right. Once that is done, I transpose the list to turn columns into rows and vice versa and repeat the process.\n",
    "\n",
    "### Transposing matrices\n",
    "\n",
    "I'm using a very handy Python trick here to transpose a matrix – meaning I turn the columns into rows and vice versa.\n",
    "\n",
    "Let's look at a simpler example where we have a 3x3 grid.\n",
    "\n",
    "```\n",
    "grid = [[1, 2, 3], [4, 5, 6], [7, 8, 9]]\n",
    "transposed = list(zip(*grid))\n",
    "# transposed = [(1, 4, 7), (2, 5, 8), (3, 6, 9)]\n",
    "```\n",
    "\n",
    "The way it works is that [`zip`](https://docs.python.org/3/library/functions.html#zip) accepts any number of parameters and groups the first item of each together into a tuple, then the second and so on. By using `*` operator, we unpack our `grid` which in this case would be the same as writing `zip(grid[0], grid[1], grid[2])` but with the `*`, we make it general and work with any size of a matrix.\n",
    "\n",
    "### Checking if something is visible\n",
    "\n",
    "I use `len([tree for tree in forest[y][:x] if tree >= value]) == 0` (with varying values of `x` and `y`.\n",
    "\n",
    "First, I find all the trees in the same row that are to the left of our value (`[:x]`) and is greater or equal to the value we want to compare to. If there are any, it means that something is blocking the view.\n",
    "\n",
    "Second, to check for anything to the right, I change it to `[x+1:]` and do the same.\n",
    "\n",
    "Then I transpose the matrix and do those two steps again."
   ]
  },
  {
   "cell_type": "code",
   "execution_count": 61,
   "id": "1e4ca9be",
   "metadata": {},
   "outputs": [],
   "source": [
    "def find_visible_count(forest):\n",
    "    edges = 0, len(forest) - 1\n",
    "    is_visible = []\n",
    "    for y in range(edges[0], edges[1]+1):\n",
    "        for x in range(edges[0], edges[1]+1):\n",
    "            value = forest[y][x]\n",
    "            # All the ones on the edges are visible\n",
    "            if y in edges or x in edges:\n",
    "                is_visible.append(value)\n",
    "                continue\n",
    "            from_left = len([tree for tree in forest[y][:x] if tree >= value]) == 0\n",
    "            from_right = len([tree for tree in forest[y][x+1:] if tree >= value]) == 0\n",
    "            if from_left or from_right:\n",
    "                is_visible.append(value)\n",
    "                continue\n",
    "\n",
    "            t_forest = list(zip(*forest))\n",
    "            from_top = len([tree for tree in t_forest[x][:y] if tree >= value]) == 0\n",
    "            from_bottom = len([tree for tree in t_forest[x][y+1:] if tree >= value]) == 0\n",
    "            if from_top or from_bottom:\n",
    "                is_visible.append(value)\n",
    "                continue\n",
    "    return(len(is_visible))"
   ]
  },
  {
   "cell_type": "code",
   "execution_count": 64,
   "id": "4d2c12d9",
   "metadata": {},
   "outputs": [
    {
     "name": "stdout",
     "output_type": "stream",
     "text": [
      "Part 1: 1840\n"
     ]
    }
   ],
   "source": [
    "solution_1 = find_visible_count(forest)\n",
    "print(f'Part 1: {solution_1}')\n",
    "assert solution_1 == 1840"
   ]
  },
  {
   "cell_type": "markdown",
   "id": "87446a70",
   "metadata": {},
   "source": [
    "## Part 2\n",
    "\n",
    ">Content with the amount of tree cover available, the Elves just need to know the best spot to build their tree house: they would like to be able to see a lot of trees.\n",
    ">\n",
    ">To measure the viewing distance from a given tree, look up, down, left, and right from that tree; stop if you reach an edge or at the first tree that is the same height or taller than the tree under consideration. (If a tree is right on the edge, at least one of its viewing distances will be zero.)\n",
    ">\n",
    ">The Elves don't care about distant trees taller than those found by the rules above; the proposed tree house has large eaves to keep it dry, so they wouldn't be able to see higher than the tree house anyway.\n",
    ">\n",
    ">In the example above, consider the middle 5 in the second row:\n",
    ">```\n",
    ">30373\n",
    ">25512\n",
    ">65332\n",
    ">33549\n",
    ">35390\n",
    ">```\n",
    ">- Looking up, its view is not blocked; it can see 1 tree (of height 3).\n",
    ">- Looking left, its view is blocked immediately; it can see only 1 tree (of height 5, right next to it).\n",
    ">- Looking right, its view is not blocked; it can see 2 trees.\n",
    ">- Looking down, its view is blocked eventually; it can see 2 trees (one of height 3, then the tree of height 5 that blocks its view).\n",
    ">\n",
    ">A tree's scenic score is found by multiplying together its viewing distance in each of the four directions. For this tree, this is 4 (found by multiplying 1 * 1 * 2 * 2).\n",
    ">\n",
    ">However, you can do even better: consider the tree of height 5 in the middle of the fourth row:\n",
    ">```\n",
    ">30373\n",
    ">25512\n",
    ">65332\n",
    ">33549\n",
    ">35390\n",
    ">```\n",
    ">- Looking up, its view is blocked at 2 trees (by another tree with a height of 5).\n",
    ">- Looking left, its view is not blocked; it can see 2 trees.\n",
    ">- Looking down, its view is also not blocked; it can see 1 tree.\n",
    ">- Looking right, its view is blocked at 2 trees (by a massive tree of height 9).\n",
    ">\n",
    ">This tree's scenic score is 8 (2 * 2 * 1 * 2); this is the ideal spot for the tree house.\n",
    ">\n",
    ">**Consider each tree on your map. What is the highest scenic score possible for any tree?**\n",
    "\n",
    "My solution here is similar to the first one: `scenic_score` gets a position and the forest layout and goes through all four dimensions from that point onward until it hits the edge or a value that is greater or equal to it. It then returns the product of all four direction as the score.\n",
    "\n",
    "In `find_highest_scenic_score`, I go through every cell, find the score and return the largest one."
   ]
  },
  {
   "cell_type": "code",
   "execution_count": 68,
   "id": "cdb77945",
   "metadata": {},
   "outputs": [],
   "source": [
    "def scenic_score(pos, forest):\n",
    "    y, x = pos\n",
    "    value = forest[y][x]\n",
    "    left, right, top, bottom = 0, 0, 0, 0\n",
    "    while x != 0:\n",
    "        left += 1\n",
    "        if forest[y][x-1] >= value:\n",
    "            break\n",
    "        x -= 1\n",
    "    \n",
    "    y, x = pos\n",
    "    while x != len(forest) - 1:\n",
    "        right += 1\n",
    "        if forest[y][x+1] >= value:\n",
    "            break\n",
    "        x += 1\n",
    "        \n",
    "    y, x = pos\n",
    "    while y != 0:\n",
    "        top += 1\n",
    "        if forest[y-1][x] >= value:\n",
    "            break\n",
    "        y -= 1\n",
    "    \n",
    "    y, x = pos\n",
    "    while y != len(forest) - 1:\n",
    "        bottom += 1\n",
    "        if forest[y+1][x] >= value:\n",
    "            break\n",
    "        y += 1\n",
    "\n",
    "    return left * right * top * bottom\n",
    "\n",
    "def find_highest_scenic_score(forest):\n",
    "    highest = 0\n",
    "    for y in range(0, len(forest)):\n",
    "        for x in range(0, len(forest)):\n",
    "            score = scenic_score((y, x), forest)\n",
    "            if score > highest:\n",
    "                highest = score\n",
    "    return highest"
   ]
  },
  {
   "cell_type": "code",
   "execution_count": 56,
   "id": "b79345e8",
   "metadata": {},
   "outputs": [
    {
     "name": "stdout",
     "output_type": "stream",
     "text": [
      "Part 2: 405769\n"
     ]
    }
   ],
   "source": [
    "highest_score = find_highest_scenic_score(forest)\n",
    "print(f'Part 2: {highest_score}')\n",
    "assert highest_score == 405769"
   ]
  }
 ],
 "metadata": {
  "kernelspec": {
   "display_name": "Python 3 (ipykernel)",
   "language": "python",
   "name": "python3"
  },
  "language_info": {
   "codemirror_mode": {
    "name": "ipython",
    "version": 3
   },
   "file_extension": ".py",
   "mimetype": "text/x-python",
   "name": "python",
   "nbconvert_exporter": "python",
   "pygments_lexer": "ipython3",
   "version": "3.10.0"
  }
 },
 "nbformat": 4,
 "nbformat_minor": 5
}
