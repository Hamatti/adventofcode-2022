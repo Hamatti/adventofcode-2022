{
 "cells": [
  {
   "cell_type": "markdown",
   "id": "c43070e6",
   "metadata": {},
   "source": [
    "# Day 5 - Supply Stacks\n",
    "\n",
    "> The expedition can depart as soon as the final supplies have been unloaded from the ships. Supplies are stored in stacks of marked crates, but because the needed supplies are buried under many other crates, the crates need to be rearranged.\n",
    ">\n",
    ">The ship has a giant cargo crane capable of moving crates between stacks. To ensure none of the crates get crushed or fall over, the crane operator will rearrange them in a series of carefully-planned steps. After the crates are rearranged, the desired crates will be at the top of each stack.\n",
    ">\n",
    ">The Elves don't want to interrupt the crane operator during this delicate procedure, but they forgot to ask her which crate will end up where, and they want to be ready to unload them as soon as possible so they can embark.\n",
    ">\n",
    ">They do, however, have a drawing of the starting stacks of crates and the rearrangement procedure (your puzzle input). For example:\n",
    ">```\n",
    ">    [D]    \n",
    ">[N] [C]    \n",
    ">[Z] [M] [P]\n",
    "> 1   2   3 \n",
    ">\n",
    ">move 1 from 2 to 1\n",
    ">move 3 from 1 to 3\n",
    ">move 2 from 2 to 1\n",
    ">move 1 from 1 to 2\n",
    ">```\n",
    ">\n",
    ">In this example, there are three stacks of crates. Stack 1 contains two crates: crate Z is on the bottom, and crate N is on top. Stack 2 contains three crates; from bottom to top, they are crates M, C, and D. Finally, stack 3 contains a single crate, P.\n",
    ">\n",
    ">Then, the rearrangement procedure is given. In each step of the procedure, a quantity of crates is moved from one stack to a different stack. In the first step of the above rearrangement procedure, one crate is moved from stack 2 to stack 1, resulting in this configuration:\n",
    ">```\n",
    ">[D]        \n",
    ">[N] [C]    \n",
    ">[Z] [M] [P]\n",
    "> 1   2   3 \n",
    ">```\n",
    ">In the second step, three crates are moved from stack 1 to stack 3. Crates are moved one at a time, so the first crate to be moved (D) ends up below the second and third crates:\n",
    ">```\n",
    ">        [Z]\n",
    ">        [N]\n",
    ">    [C] [D]\n",
    ">    [M] [P]\n",
    "> 1   2   3\n",
    ">```\n",
    ">Then, both crates are moved from stack 2 to stack 1. Again, because crates are moved one at a time, crate C ends up below crate M:\n",
    ">```\n",
    ">        [Z]\n",
    ">        [N]\n",
    ">[M]     [D]\n",
    ">[C]     [P]\n",
    "> 1   2   3\n",
    ">```\n",
    ">Finally, one crate is moved from stack 1 to stack 2:\n",
    ">```\n",
    ">        [Z]\n",
    ">        [N]\n",
    ">        [D]\n",
    ">[C] [M] [P]\n",
    "> 1   2   3\n",
    ">```\n",
    ">The Elves just need to know which crate will end up on top of each stack; in this example, the top crates are C in stack 1, M in stack 2, and Z in stack 3, so you should combine these together and give the Elves the message CMZ.\n",
    ">\n",
    ">**After the rearrangement procedure completes, what crate ends up on top of each stack?**"
   ]
  },
  {
   "cell_type": "markdown",
   "id": "48ccabac",
   "metadata": {},
   "source": [
    "## Read input\n",
    "\n",
    "Today we have quite a unique puzzle input: there are two sections that are completely different. The first section of the input is a visual representation of stacks and the second, a list of instructions.\n",
    "\n",
    "This time, I started by reading both sections as separate strings and then worried for each separately."
   ]
  },
  {
   "cell_type": "code",
   "execution_count": 1,
   "id": "49dc741f",
   "metadata": {},
   "outputs": [],
   "source": [
    "from utils import read_multisection_input\n",
    "import re\n",
    "from collections import namedtuple, defaultdict\n",
    "\n",
    "Instruction = namedtuple('Instruction', ['amount', 'source', 'target'])\n",
    "\n",
    "stacks, instructions = read_multisection_input(5, None)\n",
    "ints = []\n",
    "\n",
    "for line in instructions.split('\\n'):\n",
    "    instructions = Instruction(*[int(x) for x in re.findall('\\d+', line)])\n",
    "    ints.append(instructions)\n",
    "\n",
    "def parse_stacks(stacks):\n",
    "    stacks = stacks.split('\\n')\n",
    "    parsed = defaultdict(list)\n",
    "    for line in stacks[:-1]:\n",
    "        nro = 1\n",
    "        for i in range(1,len(line),4):\n",
    "            if line[i] != ' ':\n",
    "                parsed[nro].append(line[i])\n",
    "            nro += 1\n",
    "        continue\n",
    "    for p in parsed:\n",
    "        parsed[p] = parsed[p][::-1]\n",
    "    return parsed\n",
    "    \n",
    "stacks = parse_stacks(stacks)"
   ]
  },
  {
   "cell_type": "code",
   "execution_count": 2,
   "id": "2af2637b",
   "metadata": {},
   "outputs": [],
   "source": [
    "def solve_1(stacks, instructions):\n",
    "    for instruction in instructions:\n",
    "        for i in range(instruction.amount):\n",
    "            stacks[instruction.target].append(stacks[instruction.source].pop())\n",
    "    return ''.join([s[-1] for n, s in sorted(stacks.items(), key=lambda x: x[0])])"
   ]
  },
  {
   "cell_type": "code",
   "execution_count": 3,
   "id": "d73df9a9",
   "metadata": {},
   "outputs": [
    {
     "name": "stdout",
     "output_type": "stream",
     "text": [
      "Part 1: VCTFTJQCG\n"
     ]
    }
   ],
   "source": [
    "from copy import deepcopy\n",
    "solution_1 = solve_1(deepcopy(stacks), ints)\n",
    "print(f'Part 1: {solution_1}')\n",
    "assert solution_1 == 'VCTFTJQCG'"
   ]
  },
  {
   "cell_type": "markdown",
   "id": "7b8f1d5d",
   "metadata": {},
   "source": [
    "## Part 2"
   ]
  },
  {
   "cell_type": "code",
   "execution_count": 4,
   "id": "0c59c9e3",
   "metadata": {},
   "outputs": [],
   "source": [
    "def solve_2(stacks, instructions):\n",
    "    for instruction in instructions:\n",
    "        to_move = stacks[instruction.source][-instruction.amount:]\n",
    "        del stacks[instruction.source][-instruction.amount:]\n",
    "        stacks[instruction.target].extend(to_move)\n",
    "    return ''.join([s[-1] for n, s in sorted(stacks.items(), key=lambda x: x[0])])"
   ]
  },
  {
   "cell_type": "code",
   "execution_count": 5,
   "id": "512ac338",
   "metadata": {},
   "outputs": [
    {
     "name": "stdout",
     "output_type": "stream",
     "text": [
      "Part 2: GCFGLDNJZ\n"
     ]
    }
   ],
   "source": [
    "from copy import deepcopy\n",
    "\n",
    "solution_2 = solve_2(deepcopy(stacks), ints)\n",
    "print(f'Part 2: {solution_2}')\n",
    "assert solution_2 == 'GCFGLDNJZ'"
   ]
  }
 ],
 "metadata": {
  "kernelspec": {
   "display_name": "Python 3 (ipykernel)",
   "language": "python",
   "name": "python3"
  },
  "language_info": {
   "codemirror_mode": {
    "name": "ipython",
    "version": 3
   },
   "file_extension": ".py",
   "mimetype": "text/x-python",
   "name": "python",
   "nbconvert_exporter": "python",
   "pygments_lexer": "ipython3",
   "version": "3.10.0"
  }
 },
 "nbformat": 4,
 "nbformat_minor": 5
}
