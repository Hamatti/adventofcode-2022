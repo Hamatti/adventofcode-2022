{
 "cells": [
  {
   "cell_type": "markdown",
   "id": "c43070e6",
   "metadata": {},
   "source": [
    "# Day 5 - Supply Stacks\n",
    "\n",
    "> The expedition can depart as soon as the final supplies have been unloaded from the ships. Supplies are stored in stacks of marked crates, but because the needed supplies are buried under many other crates, the crates need to be rearranged.\n",
    ">\n",
    ">The ship has a giant cargo crane capable of moving crates between stacks. To ensure none of the crates get crushed or fall over, the crane operator will rearrange them in a series of carefully-planned steps. After the crates are rearranged, the desired crates will be at the top of each stack.\n",
    ">\n",
    ">The Elves don't want to interrupt the crane operator during this delicate procedure, but they forgot to ask her which crate will end up where, and they want to be ready to unload them as soon as possible so they can embark.\n",
    ">\n",
    ">They do, however, have a drawing of the starting stacks of crates and the rearrangement procedure (your puzzle input). For example:\n",
    ">```\n",
    ">    [D]    \n",
    ">[N] [C]    \n",
    ">[Z] [M] [P]\n",
    "> 1   2   3 \n",
    ">\n",
    ">move 1 from 2 to 1\n",
    ">move 3 from 1 to 3\n",
    ">move 2 from 2 to 1\n",
    ">move 1 from 1 to 2\n",
    ">```\n",
    ">\n",
    ">In this example, there are three stacks of crates. Stack 1 contains two crates: crate Z is on the bottom, and crate N is on top. Stack 2 contains three crates; from bottom to top, they are crates M, C, and D. Finally, stack 3 contains a single crate, P.\n",
    ">\n",
    ">Then, the rearrangement procedure is given. In each step of the procedure, a quantity of crates is moved from one stack to a different stack. In the first step of the above rearrangement procedure, one crate is moved from stack 2 to stack 1, resulting in this configuration:\n",
    ">```\n",
    ">[D]        \n",
    ">[N] [C]    \n",
    ">[Z] [M] [P]\n",
    "> 1   2   3 \n",
    ">```\n",
    ">In the second step, three crates are moved from stack 1 to stack 3. Crates are moved one at a time, so the first crate to be moved (D) ends up below the second and third crates:\n",
    ">```\n",
    ">        [Z]\n",
    ">        [N]\n",
    ">    [C] [D]\n",
    ">    [M] [P]\n",
    "> 1   2   3\n",
    ">```\n",
    ">Then, both crates are moved from stack 2 to stack 1. Again, because crates are moved one at a time, crate C ends up below crate M:\n",
    ">```\n",
    ">        [Z]\n",
    ">        [N]\n",
    ">[M]     [D]\n",
    ">[C]     [P]\n",
    "> 1   2   3\n",
    ">```\n",
    ">Finally, one crate is moved from stack 1 to stack 2:\n",
    ">```\n",
    ">        [Z]\n",
    ">        [N]\n",
    ">        [D]\n",
    ">[C] [M] [P]\n",
    "> 1   2   3\n",
    ">```\n",
    ">The Elves just need to know which crate will end up on top of each stack; in this example, the top crates are C in stack 1, M in stack 2, and Z in stack 3, so you should combine these together and give the Elves the message CMZ.\n",
    ">\n",
    ">**After the rearrangement procedure completes, what crate ends up on top of each stack?**"
   ]
  },
  {
   "cell_type": "markdown",
   "id": "48ccabac",
   "metadata": {},
   "source": [
    "## Read input\n",
    "\n",
    "Today we have quite a unique puzzle input: there are two sections that are completely different. The first section of the input is a visual representation of stacks and the second, a list of instructions.\n",
    "\n",
    "\n",
    "This time, I started by reading both sections as separate strings and then worried for each separately."
   ]
  },
  {
   "cell_type": "code",
   "execution_count": 29,
   "id": "49dc741f",
   "metadata": {},
   "outputs": [],
   "source": [
    "import re\n",
    "from collections import namedtuple, defaultdict\n",
    "\n",
    "from utils import read_multisection_input\n",
    "\n",
    "Instruction = namedtuple('Instruction', ['amount', 'source', 'target'])\n",
    "\n",
    "stacks, instructions = read_multisection_input(5, None)\n",
    "ints = []\n",
    "\n",
    "for line in instructions.split('\\n'):\n",
    "    instructions = Instruction(*[int(x) for x in re.findall('\\d+', line)])\n",
    "    ints.append(instructions)\n",
    "\n",
    "def parse_stacks(stacks):\n",
    "    stacks = stacks.split('\\n')\n",
    "    parsed = defaultdict(list)\n",
    "    for line in stacks[:-1]:\n",
    "        nro = 1\n",
    "        for i in range(1,len(line),4):\n",
    "            if line[i] != ' ':\n",
    "                parsed[nro].append(line[i])\n",
    "            nro += 1\n",
    "        continue\n",
    "    for p in parsed:\n",
    "        parsed[p] = parsed[p][::-1]\n",
    "    return parsed\n",
    "    \n",
    "stacks = parse_stacks(stacks)\n",
    "instructions = ints"
   ]
  },
  {
   "cell_type": "markdown",
   "id": "5afe9e40",
   "metadata": {},
   "source": [
    "## Part 1\n",
    "\n",
    "Today's solution for both parts uses the same function with a `reverse` flag separating the two different use cases.\n",
    "\n",
    "I like it when the two puzzle parts can be solved with a generalized solution like this. So for the first part, the solution will work as-is (ie. with `reverse=True`).\n",
    "\n",
    "For each instruction, I find the block of blocks that need to be moved, reverse their order and stack them on top of another stack. \n",
    "\n",
    "I then sort the stacks by their number to get them to the right order and for each stack, pick the last (top) item and join them to a string."
   ]
  },
  {
   "cell_type": "code",
   "execution_count": 32,
   "id": "60cd22da",
   "metadata": {},
   "outputs": [],
   "source": [
    "def solve(stacks, instructions, reverse=True):\n",
    "    for instruction in instructions:\n",
    "        to_move = stacks[instruction.source][-instruction.amount:]\n",
    "        del stacks[instruction.source][-instruction.amount:]\n",
    "        \n",
    "        if reverse:\n",
    "            to_move = to_move[::-1]\n",
    "        stacks[instruction.target].extend(to_move)\n",
    "        \n",
    "    sorted_stacks = sorted(stacks.items(), key=lambda x: x[0])\n",
    "    return ''.join([stack[-1] for number, stack in sorted_stacks])"
   ]
  },
  {
   "cell_type": "code",
   "execution_count": 30,
   "id": "d73df9a9",
   "metadata": {},
   "outputs": [
    {
     "name": "stdout",
     "output_type": "stream",
     "text": [
      "Part 1: VCTFTJQCG\n"
     ]
    }
   ],
   "source": [
    "from copy import deepcopy\n",
    "solution_1 = solve(deepcopy(stacks), instructions, True)\n",
    "print(f'Part 1: {solution_1}')\n",
    "assert solution_1 == 'VCTFTJQCG'"
   ]
  },
  {
   "cell_type": "markdown",
   "id": "7b8f1d5d",
   "metadata": {},
   "source": [
    "## Part 2"
   ]
  },
  {
   "cell_type": "markdown",
   "id": "89705307",
   "metadata": {},
   "source": [
    ">As you watch the crane operator expertly rearrange the crates, you notice the process isn't following your prediction.\n",
    ">\n",
    ">Some mud was covering the writing on the side of the crane, and you quickly wipe it away. The crane isn't a CrateMover 9000 - it's a CrateMover 9001.\n",
    ">\n",
    ">The CrateMover 9001 is notable for many new and exciting features: air conditioning, leather seats, an extra cup holder, and the ability to pick up and move multiple crates at once.\n",
    ">\n",
    ">Again considering the example above, the crates begin in the same configuration:\n",
    ">```\n",
    ">    [D]    \n",
    ">[N] [C]    \n",
    ">[Z] [M] [P]\n",
    "> 1   2   3 \n",
    ">```\n",
    ">\n",
    ">Moving a single crate from stack 2 to stack 1 behaves the same as before:\n",
    ">```\n",
    ">[D]        \n",
    ">[N] [C]    \n",
    ">[Z] [M] [P]\n",
    "> 1   2   3 \n",
    ">```\n",
    ">However, the action of moving three crates from stack 1 to stack 3 means that those three moved crates stay in the same order, resulting in this new configuration:\n",
    ">```\n",
    ">        [D]\n",
    ">        [N]\n",
    ">    [C] [Z]\n",
    ">    [M] [P]\n",
    "> 1   2   3\n",
    ">```\n",
    ">\n",
    ">Next, as both crates are moved from stack 2 to stack 1, they retain their order as well:\n",
    ">```\n",
    ">        [D]\n",
    ">        [N]\n",
    ">[C]     [Z]\n",
    ">[M]     [P]\n",
    "> 1   2   3\n",
    ">```\n",
    ">Finally, a single crate is still moved from stack 1 to stack 2, but now it's crate C that gets moved:\n",
    ">```\n",
    ">        [D]\n",
    ">        [N]\n",
    ">        [Z]\n",
    ">[M] [C] [P]\n",
    "> 1   2   3\n",
    ">```\n",
    ">\n",
    ">In this example, the CrateMover 9001 has put the crates in a totally different order: MCD.\n",
    ">\n",
    ">Before the rearrangement process finishes, update your simulation so that the Elves know where they should stand to be ready to unload the final supplies. **After the rearrangement procedure completes, what crate ends up on top of each stack?**\n",
    "\n",
    "Part 2 is the same solution as part 1 but this time we don't reverse the order of the moving stack."
   ]
  },
  {
   "cell_type": "code",
   "execution_count": 31,
   "id": "512ac338",
   "metadata": {},
   "outputs": [
    {
     "name": "stdout",
     "output_type": "stream",
     "text": [
      "Part 2: GCFGLDNJZ\n"
     ]
    }
   ],
   "source": [
    "from copy import deepcopy\n",
    "\n",
    "solution_2 = solve(deepcopy(stacks), instructions, False)\n",
    "print(f'Part 2: {solution_2}')\n",
    "assert solution_2 == 'GCFGLDNJZ'"
   ]
  }
 ],
 "metadata": {
  "kernelspec": {
   "display_name": "Python 3 (ipykernel)",
   "language": "python",
   "name": "python3"
  },
  "language_info": {
   "codemirror_mode": {
    "name": "ipython",
    "version": 3
   },
   "file_extension": ".py",
   "mimetype": "text/x-python",
   "name": "python",
   "nbconvert_exporter": "python",
   "pygments_lexer": "ipython3",
   "version": "3.10.0"
  }
 },
 "nbformat": 4,
 "nbformat_minor": 5
}
