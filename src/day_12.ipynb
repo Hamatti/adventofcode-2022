{
 "cells": [
  {
   "cell_type": "markdown",
   "id": "c57ad501",
   "metadata": {},
   "source": [
    "# Day 12 - Hill Climbing Algorithm\n",
    "\n",
    ">You try contacting the Elves using your handheld device, but the river you're following must be too low to get a decent signal.\n",
    ">\n",
    ">You ask the device for a heightmap of the surrounding area (your puzzle input). The heightmap shows the local area from above broken into a grid; the elevation of each square of the grid is given by a single lowercase letter, where a is the lowest elevation, b is the next-lowest, and so on up to the highest elevation, z.\n",
    ">\n",
    ">Also included on the heightmap are marks for your current position (S) and the location that should get the best signal (E). Your current position (S) has elevation a, and the location that should get the best signal (E) has elevation z.\n",
    ">\n",
    ">You'd like to reach E, but to save energy, you should do it in as few steps as possible. During each step, you can move exactly one square up, down, left, or right. To avoid needing to get out your climbing gear, the elevation of the destination square can be at most one higher than the elevation of your current square; that is, if your current elevation is m, you could step to elevation n, but not to elevation o. (This also means that the elevation of the destination square can be much lower than the elevation of your current square.)\n",
    ">\n",
    ">For example:\n",
    ">```\n",
    ">Sabqponm\n",
    ">abcryxxl\n",
    ">accszExk\n",
    ">acctuvwj\n",
    ">abdefghi\n",
    ">```\n",
    ">Here, you start in the top-left corner; your goal is near the middle. You could start by moving down or right, but eventually you'll need to head toward the e at the bottom. From there, you can spiral around to the goal:\n",
    ">```\n",
    ">v..v<<<<\n",
    ">>v.vv<<^\n",
    ">.>vv>E^^\n",
    ">..v>>>^^\n",
    ">..>>>>>^\n",
    ">```\n",
    ">In the above diagram, the symbols indicate whether the path exits each square moving up (^), down (v), left (<), or right (>). The location that should get the best signal is still E, and . marks unvisited squares.\n",
    ">\n",
    ">This path reaches the goal in 31 steps, the fewest possible."
   ]
  },
  {
   "cell_type": "markdown",
   "id": "7936aa7b",
   "metadata": {},
   "source": [
    "My Advent of Code senses are tingling: we're gonna need a pathfinding algorithm! And what would be a better choice than [A*](https://en.wikipedia.org/wiki/A*_search_algorithm) (there might be better ones to be honest, A* is just the only one I know and it has a cool name).\n",
    "\n",
    "I've implemented A* quite a few times in Advent of Code over the years. I still don't quite _understand_ it but I'm able to implement it and get it right with surprising ease these days. "
   ]
  },
  {
   "cell_type": "markdown",
   "id": "9653bbcf",
   "metadata": {},
   "source": [
    "## Read input\n",
    "\n",
    "For today's map, we're using a dictionary to hold our values. This makes the path finding much simpler because we never need to worry about edge detection. To make it even easier, we're using `defaultdict` with a constant factory that makes the default value a positive infinity. This quarantees that we'll never be able to hike beyond the mountain.\n",
    "\n",
    "To create the height map, we first read the input into a two-dimensional list (this is not strictly necessary, it just works best with my `utils.read_input` method. If you are parsing the input directly, you can skip that phase and just read the values into a dictionary.\n",
    "\n",
    "For each item in the input, we add its coordinates into a dictionary, replacing the character with its corresponding number (`a` -> `0` and `z` -> 25) and when we run into a capital letter (S and E), we special case them and capture them as the start and goal points."
   ]
  },
  {
   "cell_type": "code",
   "execution_count": 78,
   "id": "e47c4168",
   "metadata": {},
   "outputs": [],
   "source": [
    "import math\n",
    "from utils import read_input\n",
    "from string import ascii_lowercase\n",
    "from collections import defaultdict\n",
    "\n",
    "def transformer(line):\n",
    "    return [char for char in line]\n",
    "\n",
    "grid = read_input(12, transformer)\n",
    "example = read_input(12, transformer, True)\n",
    "\n",
    "def constant_factory(value):\n",
    "    return lambda: value\n",
    "\n",
    "def create_height_map(grid):\n",
    "    height_map = defaultdict(constant_factory(math.inf))\n",
    "    start = None\n",
    "    goal = None\n",
    "    for y in range(len(grid)):\n",
    "        for x in range(len(grid[y])):\n",
    "            try:\n",
    "                height_map[(y, x)] = ascii_lowercase.index(grid[y][x])\n",
    "            except ValueError:\n",
    "                if grid[y][x] == 'S':\n",
    "                    start = (y, x)\n",
    "                    height_map[start] = 0\n",
    "                elif grid[y][x] == 'E':\n",
    "                    goal = (y, x)\n",
    "                    height_map[goal] = 25\n",
    "                else:\n",
    "                    raise ValueError(\"Unknown height\")\n",
    "    return height_map, start, goal"
   ]
  },
  {
   "cell_type": "markdown",
   "id": "609de21e",
   "metadata": {},
   "source": [
    "This is pretty much the 1:1 implementation of A* from Wikipedia's pseudocode.\n",
    "\n",
    "A few helper functions to start with: `reconstruct_path` takes all the paths and current point and reverses the journey, giving us a linear path. `get_neighbors` finds all the viable neighboring spots - that is, anything max 1 value higher than current.\n",
    "\n",
    "Finally, `find_path` starts with the start point, finds all viable neighbors, calculates the cost (in our case, the cost is always +1) and adds them to the path. It then eventually finds the result. How? I don't know, it's higher level computer science than I can explain to you.\n",
    "\n",
    "I can follow the execution line by line but being able to explain why it works is bit murky to me."
   ]
  },
  {
   "cell_type": "code",
   "execution_count": 80,
   "id": "3ee6a01c",
   "metadata": {},
   "outputs": [],
   "source": [
    "import heapq\n",
    "import math\n",
    "\n",
    "def reconstruct_path(came_from, current):\n",
    "    total_path = [current]\n",
    "    while current in came_from:\n",
    "        current = came_from[current]\n",
    "        total_path.insert(0, current)\n",
    "    return total_path\n",
    "\n",
    "def get_neighbors(current, height_map):\n",
    "    neighbors = []\n",
    "    top_neighbor = (current[0]-1, current[1])\n",
    "    if height_map[top_neighbor] <= height_map[current] + 1:\n",
    "        neighbors.append(top_neighbor)\n",
    "    \n",
    "    right_neighbor = current[0], current[1] + 1\n",
    "    if height_map[right_neighbor] <= height_map[current] + 1:\n",
    "        neighbors.append(right_neighbor)\n",
    "\n",
    "    left_neighbor = current[0], current[1] - 1\n",
    "    if height_map[left_neighbor] <= height_map[current] + 1:\n",
    "        neighbors.append(left_neighbor)\n",
    "\n",
    "    bottom_neighbor = current[0] + 1, current[1]\n",
    "    if height_map[bottom_neighbor] <= height_map[current] + 1:\n",
    "        neighbors.append(bottom_neighbor)\n",
    "        \n",
    "    return neighbors\n",
    "\n",
    "\n",
    "def find_path(height_map, start, goal):\n",
    "    open_set = set([start])\n",
    "    came_from = dict()\n",
    "    \n",
    "    g_score = defaultdict(constant_factory(math.inf))\n",
    "    g_score[start] = 0\n",
    "    \n",
    "    while len(open_set) > 0:\n",
    "        current = open_set.pop()\n",
    "        if current == goal:\n",
    "            return reconstruct_path(came_from, current)\n",
    "        for neighbor in get_neighbors(current, height_map):\n",
    "            tentative_g_score = g_score[current] + 1\n",
    "            if tentative_g_score < g_score[neighbor]:\n",
    "                came_from[neighbor] = current\n",
    "                g_score[neighbor] = tentative_g_score\n",
    "                if neighbor not in open_set:\n",
    "                    open_set.add(neighbor)\n",
    "\n",
    "    raise Exception(\"Did not reach goal\")\n",
    "    \n",
    "def score_path(path):\n",
    "    # -1 because start point is included in the path\n",
    "    return len(path) - 1"
   ]
  },
  {
   "cell_type": "markdown",
   "id": "a051f5c3",
   "metadata": {},
   "source": [
    "## Part 1\n",
    "\n",
    ">**What is the fewest steps required to move from your current position to the location that should get the best signal?**"
   ]
  },
  {
   "cell_type": "code",
   "execution_count": 81,
   "id": "c86b3593",
   "metadata": {},
   "outputs": [
    {
     "name": "stdout",
     "output_type": "stream",
     "text": [
      "Part 1: 534\n"
     ]
    }
   ],
   "source": [
    "height_map, start, goal = create_height_map(grid)\n",
    "shortest_climb = score_path(find_path(height_map, start, goal))\n",
    "print(f'Part 1: {shortest_climb}')\n",
    "assert shortest_climb == 534"
   ]
  },
  {
   "cell_type": "markdown",
   "id": "0d5180d7",
   "metadata": {},
   "source": [
    "## Part 2\n",
    "\n",
    ">As you walk up the hill, you suspect that the Elves will want to turn this into a hiking trail. The beginning isn't very scenic, though; perhaps you can find a better starting point.\n",
    ">\n",
    ">To maximize exercise while hiking, the trail should start as low as possible: elevation a. The goal is still the square marked E. However, the trail should still be direct, taking the fewest steps to reach its goal. So, you'll need to find the shortest path from any square at elevation a to the square marked E.\n",
    ">\n",
    ">Again consider the example from above:\n",
    ">```\n",
    ">Sabqponm\n",
    ">abcryxxl\n",
    ">accszExk\n",
    ">acctuvwj\n",
    ">abdefghi\n",
    ">```\n",
    ">Now, there are six choices for starting position (five marked a, plus the square marked S that counts as being at elevation a). If you start at the bottom-left square, you can reach the goal most quickly:\n",
    ">```\n",
    ">...v<<<<\n",
    ">...vv<<^\n",
    ">...v>E^^\n",
    ">.>v>>>^^\n",
    ">>^>>>>>^\n",
    ">```\n",
    ">This path reaches the goal in only 29 steps, the fewest possible.\n",
    ">\n",
    ">**What is the fewest steps required to move starting from any square with elevation a to the location that should get the best signal?**\n",
    "\n",
    "There might be better ways to do this but since the input space is rather small, I just find all the possible start points first and then execute A* to all of them.\n",
    "\n",
    "I figure it's probably possible to extract these different paths from A* directly if implemented slightly different so we wouldn't have to climb the same hills over and over again but I didn't do that.\n",
    "\n",
    "I modified the neighbor finder from part 1 to only return neighbors with value of 0 (matching the `a` in input).\n",
    "\n",
    "`find_starting_points` looks for valid neighbors (height of 0 and not previously checked) until it can't find any and then it returns them all."
   ]
  },
  {
   "cell_type": "code",
   "execution_count": 65,
   "id": "256c7909",
   "metadata": {},
   "outputs": [],
   "source": [
    "def get_low_neighbors(current, height_map):\n",
    "    neighbors = []\n",
    "    top_neighbor = (current[0]-1, current[1])\n",
    "    if height_map.get(top_neighbor, math.inf) == 0:\n",
    "        neighbors.append(top_neighbor)\n",
    "    \n",
    "    right_neighbor = current[0], current[1] + 1\n",
    "    if height_map.get(right_neighbor, math.inf) == 0:\n",
    "        neighbors.append(right_neighbor)\n",
    "        \n",
    "    left_neighbor = current[0], current[1] - 1\n",
    "    if height_map.get(left_neighbor, math.inf) == 0:\n",
    "        neighbors.append(left_neighbor)\n",
    "        \n",
    "    bottom_neighbor = current[0]+1, current[1]\n",
    "    if height_map.get(bottom_neighbor, math.inf) == 0:\n",
    "        neighbors.append(bottom_neighbor)\n",
    "        \n",
    "    return set(neighbors)\n",
    "\n",
    "\n",
    "def find_starting_points(height_map, start):\n",
    "    start_points = set([start])\n",
    "    to_check = get_low_neighbors(start, height_map)\n",
    "    start_points = start_points | to_check\n",
    "    checked = set([start])\n",
    "    while len(to_check) > 0:\n",
    "        current = to_check.pop()\n",
    "        checked.add(current)\n",
    "        neighbors = set(n for n in get_low_neighbors(current, height_map) if n not in checked)\n",
    "        to_check = to_check | neighbors\n",
    "        start_points.add(current)\n",
    "    \n",
    "    return start_points"
   ]
  },
  {
   "cell_type": "markdown",
   "id": "83b8ead3",
   "metadata": {},
   "source": [
    "For every viable starting point, we run our A*, score it and find the smallest one."
   ]
  },
  {
   "cell_type": "code",
   "execution_count": 82,
   "id": "0b27aa08",
   "metadata": {},
   "outputs": [
    {
     "name": "stdout",
     "output_type": "stream",
     "text": [
      "Part 2: 525\n"
     ]
    }
   ],
   "source": [
    "height_map, start, goal = create_height_map(grid)\n",
    "find_starting_points(height_map, start)\n",
    "\n",
    "shortest = math.inf\n",
    "for start_point in find_starting_points(height_map, start):\n",
    "    shortest_climb = score_path(find_path(height_map, start_point, goal))\n",
    "    if shortest_climb < shortest:\n",
    "        shortest = shortest_climb\n",
    "\n",
    "        \n",
    "print(f'Part 2: {shortest}')\n",
    "assert shortest == 525"
   ]
  }
 ],
 "metadata": {
  "kernelspec": {
   "display_name": "Python 3 (ipykernel)",
   "language": "python",
   "name": "python3"
  },
  "language_info": {
   "codemirror_mode": {
    "name": "ipython",
    "version": 3
   },
   "file_extension": ".py",
   "mimetype": "text/x-python",
   "name": "python",
   "nbconvert_exporter": "python",
   "pygments_lexer": "ipython3",
   "version": "3.10.0"
  }
 },
 "nbformat": 4,
 "nbformat_minor": 5
}
