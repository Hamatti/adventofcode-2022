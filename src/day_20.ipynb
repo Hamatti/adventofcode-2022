{
 "cells": [
  {
   "cell_type": "markdown",
   "id": "7e531e63",
   "metadata": {},
   "source": [
    "# Day 20 - Grove Positioning System\n",
    "\n",
    ">It's finally time to meet back up with the Elves. When you try to contact them, however, you get no reply. Perhaps you're out of range?\n",
    ">\n",
    ">You know they're headed to the grove where the star fruit grows, so if you can figure out where that is, you should be able to meet back up with them.\n",
    ">\n",
    ">Fortunately, your handheld device has a file (your puzzle input) that contains the grove's coordinates! Unfortunately, the file is encrypted - just in case the device were to fall into the wrong hands.\n",
    ">\n",
    ">Maybe you can decrypt it?\n",
    ">\n",
    ">When you were still back at the camp, you overheard some Elves talking about coordinate file encryption. The main operation involved in decrypting the file is called mixing.\n",
    ">\n",
    ">The encrypted file is a list of numbers. To mix the file, move each number forward or backward in the file a number of positions equal to the value of the number being moved. The list is circular, so moving a number off one end of the list wraps back around to the other end as if the ends were connected.\n",
    ">\n",
    ">For example, to move the 1 in a sequence like 4, 5, 6, 1, 7, 8, 9, the 1 moves one position forward: 4, 5, 6, 7, 1, 8, 9. To move the -2 in a sequence like 4, -2, 5, 6, 7, 8, 9, the -2 moves two positions backward, wrapping around: 4, 5, 6, 7, 8, -2, 9.\n",
    ">\n",
    ">The numbers should be moved in the order they originally appear in the encrypted file. Numbers moving around during the mixing process do not change the order in which the numbers are moved.\n",
    ">\n",
    ">Consider this encrypted file:\n",
    ">```\n",
    ">1\n",
    ">2\n",
    ">-3\n",
    ">3\n",
    ">-2\n",
    ">0\n",
    ">4\n",
    ">```\n",
    ">Mixing this file proceeds as follows:\n",
    ">```\n",
    ">Initial arrangement:\n",
    ">1, 2, -3, 3, -2, 0, 4\n",
    ">\n",
    ">1 moves between 2 and -3:\n",
    ">2, 1, -3, 3, -2, 0, 4\n",
    ">\n",
    ">2 moves between -3 and 3:\n",
    ">1, -3, 2, 3, -2, 0, 4\n",
    ">\n",
    ">-3 moves between -2 and 0:\n",
    ">1, 2, 3, -2, -3, 0, 4\n",
    ">\n",
    ">3 moves between 0 and 4:\n",
    ">1, 2, -2, -3, 0, 3, 4\n",
    ">\n",
    ">-2 moves between 4 and 1:\n",
    ">1, 2, -3, 0, 3, 4, -2\n",
    ">\n",
    ">0 does not move:\n",
    ">1, 2, -3, 0, 3, 4, -2\n",
    ">\n",
    ">4 moves between -3 and 0:\n",
    ">1, 2, -3, 4, 0, 3, -2\n",
    ">```\n",
    ">Then, the grove coordinates can be found by looking at the 1000th, 2000th, and 3000th numbers after the value 0, wrapping around the list as necessary. In the above example, the 1000th number after 0 is 4, the 2000th is -3, and the 3000th is 2; adding these together produces 3.\n",
    ">\n",
    ">Mix your encrypted file exactly once. What is the sum of the three numbers that form the grove coordinates?"
   ]
  },
  {
   "cell_type": "markdown",
   "id": "bde7dfbc",
   "metadata": {},
   "source": [
    "## Read input"
   ]
  },
  {
   "cell_type": "markdown",
   "id": "ea42ae36",
   "metadata": {},
   "source": [
    "Since today's puzzle requires shifting values around **and** remembering the original order **and** the list contains duplicate numbers, I read the data in into a list of Number tuples that in addition to its value, knows its id (original index)."
   ]
  },
  {
   "cell_type": "code",
   "execution_count": 11,
   "id": "e65e9fbf",
   "metadata": {},
   "outputs": [],
   "source": [
    "from utils import read_input\n",
    "from collections import namedtuple\n",
    "\n",
    "Number = namedtuple('Number', ['id', 'value'])\n",
    "\n",
    "data = read_input(20, int)\n",
    "data = [Number(i, value) for i, value in enumerate(data)]"
   ]
  },
  {
   "cell_type": "markdown",
   "id": "9520c084",
   "metadata": {},
   "source": [
    "To mix the numbers, I create a duplicate list to remember the original order. I then shuffle values around and replace the data list to put the value into the same position.\n",
    "\n",
    "This is not very memory efficient as each loop, I have three lists of the same size at memory: the order, the old data and the new data. But for an input of 5000 items, it's not an issue. If the puzzle would be exponentially larger, this could slow it down and another solution should be made.\n",
    "\n",
    "To calculate the end solution, I find the first Number with value 0 and then move 1000, 2000 and 3000 steps forward from that and sum them together."
   ]
  },
  {
   "cell_type": "code",
   "execution_count": 13,
   "id": "4829857d",
   "metadata": {},
   "outputs": [],
   "source": [
    "def mix(data):\n",
    "    order = data[:]\n",
    "    \n",
    "    for number in order:\n",
    "        d_idx = data.index(number)\n",
    "        new_idx = (d_idx + number.value) \n",
    "        new_idx = new_idx % (len(data)-1)\n",
    "        data.remove(number)\n",
    "        \n",
    "        data = data[:new_idx] + [number] + data[new_idx:]\n",
    "    \n",
    "    return data       \n",
    "\n",
    "def grove_coordinates(data):\n",
    "    zero_index = None\n",
    "    for i, number in enumerate(data):\n",
    "        if number.value == 0:\n",
    "            zero_index = i\n",
    "            break\n",
    "    \n",
    "    first = data[(zero_index + 1000) % len(data)]\n",
    "    second = data[(zero_index + 2000) % len(data)]\n",
    "    third = data[(zero_index + 3000) % len(data)]\n",
    "    \n",
    "    return first.value + second.value + third.value"
   ]
  },
  {
   "cell_type": "code",
   "execution_count": 14,
   "id": "c0b62f51",
   "metadata": {},
   "outputs": [
    {
     "name": "stdout",
     "output_type": "stream",
     "text": [
      "Part 1: 23321\n"
     ]
    }
   ],
   "source": [
    "result = grove_coordinates(mix(data.copy()))\n",
    "print(f'Part 1: {result}')\n",
    "assert result == 23321"
   ]
  },
  {
   "cell_type": "markdown",
   "id": "46d2c480",
   "metadata": {},
   "source": [
    "## Part 2\n",
    "\n",
    ">The grove coordinate values seem nonsensical. While you ponder the mysteries of Elf encryption, you suddenly remember the rest of the decryption routine you overheard back at camp.\n",
    ">\n",
    ">First, you need to apply the decryption key, 811589153. Multiply each number by the decryption key before you begin; this will produce the actual list of numbers to mix.\n",
    ">\n",
    ">Second, you need to mix the list of numbers ten times. The order in which the numbers are mixed does not change during mixing; the numbers are still moved in the order they appeared in the original, pre-mixed list. (So, if -3 appears fourth in the original list of numbers to mix, -3 will be the fourth number to move during each round of mixing.)\n",
    ">\n",
    ">Using the same example as above:\n",
    ">```\n",
    ">Initial arrangement:\n",
    ">811589153, 1623178306, -2434767459, 2434767459, -1623178306, 0, 3246356612\n",
    ">\n",
    ">After 1 round of mixing:\n",
    ">0, -2434767459, 3246356612, -1623178306, 2434767459, 1623178306, 811589153\n",
    ">\n",
    ">After 2 rounds of mixing:\n",
    ">0, 2434767459, 1623178306, 3246356612, -2434767459, -1623178306, 811589153\n",
    ">\n",
    ">After 3 rounds of mixing:\n",
    ">0, 811589153, 2434767459, 3246356612, 1623178306, -1623178306, -2434767459\n",
    ">\n",
    ">After 4 rounds of mixing:\n",
    ">0, 1623178306, -2434767459, 811589153, 2434767459, 3246356612, -1623178306\n",
    ">\n",
    ">After 5 rounds of mixing:\n",
    ">0, 811589153, -1623178306, 1623178306, -2434767459, 3246356612, 2434767459\n",
    ">\n",
    ">After 6 rounds of mixing:\n",
    ">0, 811589153, -1623178306, 3246356612, -2434767459, 1623178306, 2434767459\n",
    ">\n",
    ">After 7 rounds of mixing:\n",
    ">0, -2434767459, 2434767459, 1623178306, -1623178306, 811589153, 3246356612\n",
    ">\n",
    ">After 8 rounds of mixing:\n",
    ">0, 1623178306, 3246356612, 811589153, -2434767459, 2434767459, -1623178306\n",
    ">\n",
    ">After 9 rounds of mixing:\n",
    ">0, 811589153, 1623178306, -2434767459, 3246356612, 2434767459, -1623178306\n",
    ">\n",
    ">After 10 rounds of mixing:\n",
    ">0, -2434767459, 1623178306, 3246356612, -1623178306, 2434767459, 811589153\n",
    ">```\n",
    ">The grove coordinates can still be found in the same way. Here, the 1000th number after 0 is 811589153, the 2000th is 2434767459, and the 3000th is -1623178306; adding these together produces 1623178306.\n",
    ">\n",
    ">Apply the decryption key and mix your encrypted file ten times. What is the sum of the three numbers that form the grove coordinates?"
   ]
  },
  {
   "cell_type": "markdown",
   "id": "642968ae",
   "metadata": {},
   "source": [
    "My first impression seeing the part 2 description: 😱. 811589153 looked like such a huge number but once I realized that it does not affect the amount of steps taken nor the size of the lists, I realized that it does not increase the complexity of my solution at all.\n",
    "\n",
    "All I had to do, was to calculate a new starting point by multiplying each value with the key and then run the mixing ten times."
   ]
  },
  {
   "cell_type": "code",
   "execution_count": 15,
   "id": "b5faf79b",
   "metadata": {},
   "outputs": [],
   "source": [
    "def mix2(data):\n",
    "    data = [Number(num.id, num.value * 811589153) for num in data]\n",
    "    order = data[:]\n",
    "    \n",
    "    for cycle in range(10):\n",
    "        for number in order:\n",
    "            d_idx = data.index(number)\n",
    "            new_idx = (d_idx + number.value) \n",
    "            new_idx = new_idx % (len(data)-1)\n",
    "            data.remove(number)\n",
    "\n",
    "            data = data[:new_idx] + [number] + data[new_idx:]\n",
    "    \n",
    "    return data"
   ]
  },
  {
   "cell_type": "code",
   "execution_count": 17,
   "id": "61f8bcb6",
   "metadata": {},
   "outputs": [
    {
     "name": "stdout",
     "output_type": "stream",
     "text": [
      "Part 2: 1428396909280\n"
     ]
    }
   ],
   "source": [
    "result2 = grove_coordinates(mix2(data.copy()))\n",
    "print(f'Part 2: {result2}')\n",
    "assert result2 == 1428396909280"
   ]
  }
 ],
 "metadata": {
  "kernelspec": {
   "display_name": "Python 3 (ipykernel)",
   "language": "python",
   "name": "python3"
  },
  "language_info": {
   "codemirror_mode": {
    "name": "ipython",
    "version": 3
   },
   "file_extension": ".py",
   "mimetype": "text/x-python",
   "name": "python",
   "nbconvert_exporter": "python",
   "pygments_lexer": "ipython3",
   "version": "3.10.0"
  }
 },
 "nbformat": 4,
 "nbformat_minor": 5
}
