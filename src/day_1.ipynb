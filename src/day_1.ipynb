{
 "cells": [
  {
   "cell_type": "markdown",
   "id": "ae8e97ea",
   "metadata": {},
   "source": [
    "# Day 1: Calorie Counting\n",
    "\n",
    "_This is a solution to [Advent of Code, Day 1, 2022](https://adventofcode.com/2022/day/1). See my solutions for other days this year at [hamatti/adventofcode-2022](github.com/hamatti/adventofcode-2022)_\n",
    "\n",
    ">Santa's reindeer typically eat regular reindeer food, but they need a lot of magical energy to deliver presents on Christmas. For that, their favorite snack is a special type of star fruit that only grows deep in the jungle. The Elves have brought you on their annual expedition to the grove where the fruit grows.\n",
    ">\n",
    ">To supply enough magical energy, the expedition needs to retrieve a minimum of fifty stars by December 25th. Although the Elves assure you that the grove has plenty of fruit, you decide to grab any fruit you see along the way, just in case.\n",
    ">\n",
    ">Collect stars by solving puzzles. Two puzzles will be made available on each day in the Advent calendar; the second puzzle is unlocked when you complete the first. Each puzzle grants one star. Good luck!\n",
    ">\n",
    ">The jungle must be too overgrown and difficult to navigate in vehicles or access from the air; the Elves' expedition traditionally goes on foot. As your boats approach land, the Elves begin taking inventory of their supplies. One important consideration is food - in particular, the number of Calories each Elf is carrying (your puzzle input).\n",
    ">\n",
    ">The Elves take turns writing down the number of Calories contained by the various meals, snacks, rations, etc. that they've brought with them, one item per line. Each Elf separates their own inventory from the previous Elf's inventory (if any) by a blank line.\n",
    ">\n",
    ">For example, suppose the Elves finish writing their items' Calories and end up with the following list:\n",
    ">\n",
    ">```\n",
    "1000\n",
    "2000\n",
    "3000\n",
    ">\n",
    ">4000\n",
    ">\n",
    ">5000\n",
    ">6000\n",
    ">\n",
    ">7000\n",
    ">8000\n",
    ">9000\n",
    ">\n",
    ">10000\n",
    ">```\n",
    "This list represents the Calories of the food carried by five Elves:\n",
    ">\n",
    "> - The first Elf is carrying food with 1000, 2000, and 3000 Calories, a total of 6000 Calories.\n",
    "> - The second Elf is carrying one food item with 4000 Calories.\n",
    "> - The third Elf is carrying food with 5000 and 6000 Calories, a total of 11000 Calories.\n",
    "> - The fourth Elf is carrying food with 7000, 8000, and 9000 Calories, a total of 24000 Calories.\n",
    "> - The fifth Elf is carrying one food item with 10000 Calories.\n",
    ">\n",
    ">In case the Elves get hungry and need extra snacks, they need to know which Elf to ask: they'd like to know how many Calories are being carried by the Elf carrying the most Calories. In the example above, this is 24000 (carried by the fourth Elf)."
   ]
  },
  {
   "cell_type": "markdown",
   "id": "53a3ab48",
   "metadata": {},
   "source": [
    "## Happy December!\n",
    "\n",
    "I'm very excited that it's December and Advent of Code again. Welcome to my solutions for this year, as I try to solve problems and help elves save the Christmas. This year, [like the last](https://github.com/Hamatti/adventofcode-2021/), I'm solving these puzzles wiht Python, while writing them open and explaining my thinking and tools & approaches I use in these Jupyter Notebooks.\n",
    "\n",
    "Let's get started!"
   ]
  },
  {
   "cell_type": "markdown",
   "id": "4696e12e",
   "metadata": {},
   "source": [
    "## Read input\n",
    "\n",
    "Right away, we start with a multisection input and I learned that my last year's `utils.read_multisection_input` was written for a very different type of multisection input, so I started by rewriting that to allow any number of blocks.\n",
    "\n",
    "My input readers accept three different parameters:\n",
    "\n",
    "- `day` which is a number to state which day's input we want to read\n",
    "- `transformer` function that will be run on each line of the input\n",
    "- `example` which tells the function if we want to read the actual input or an example input\n",
    "\n",
    "Over the years I'e learned that it helps a lot when I keep the data input and modification separate from the other code so I can focus on the puzzle solving and get the same type of input data each day."
   ]
  },
  {
   "cell_type": "code",
   "execution_count": 12,
   "id": "7689166a",
   "metadata": {},
   "outputs": [],
   "source": [
    "from utils import read_multisection_input\n",
    "\n",
    "def transformer(line):\n",
    "    return [int(value) for value in line.split('\\n')]\n",
    "\n",
    "calories = read_multisection_input(1, transformer)\n",
    "example = read_multisection_input(1, transformer, example=True)"
   ]
  },
  {
   "cell_type": "markdown",
   "id": "404e95ac",
   "metadata": {},
   "source": [
    "## Part 1\n",
    "\n",
    "> **Find the Elf carrying the most Calories. How many total Calories is that Elf carrying?**\n",
    "\n",
    "Our input here is a list of list of numbers, with each sublist indicating a single Elf's carry. We can use Python's [generator expression](https://docs.python.org/3/glossary.html#index-20) to calculate the sum for each Elf and then take the `max` value of those.\n",
    "\n",
    "### Lists and generators\n",
    "\n",
    "In Python, you can create a new list from existing with a [list comprehension](https://docs.python.org/3/tutorial/datastructures.html#list-comprehensions):\n",
    "\n",
    "```\n",
    "numbers = [1, 2, 3]\n",
    "squares = [num**2 for num in numbers]\n",
    "```\n",
    "\n",
    "This is very handy and nice as it allows us to map and filter values to create new lists. However, if the original list is very big, it can take a lot of memory to always create new lists.\n",
    "\n",
    "That's where generators come in handy. A generator expression looks very similar to list comprehension but we use parenthesis instead of square brackets (or if the generator expression is immediately passed to a function like in my solution below, you can omit the extra parenthesis):\n",
    "\n",
    "```\n",
    "numbers = [1, 2, 3]\n",
    "squares = (num**2 for num in numbers)\n",
    "```\n",
    "\n",
    "In this example, `squares` is a generator object. It will calculate the values when needed so it's very memory efficient for large quantities of data."
   ]
  },
  {
   "cell_type": "code",
   "execution_count": 23,
   "id": "888f32ab",
   "metadata": {
    "scrolled": true
   },
   "outputs": [
    {
     "name": "stdout",
     "output_type": "stream",
     "text": [
      "Part 1: 67016\n"
     ]
    }
   ],
   "source": [
    "largest = max(sum(cal) for cal in calories)\n",
    "\n",
    "print(f'Part 1: {largest}')\n",
    "assert largest == 67016"
   ]
  },
  {
   "cell_type": "markdown",
   "id": "4f52d9a5",
   "metadata": {},
   "source": [
    "## Part 2\n",
    "\n",
    "> By the time you calculate the answer to the Elves' question, they've already realized that the Elf carrying the most Calories of food might eventually run out of snacks.\n",
    ">\n",
    ">To avoid this unacceptable situation, the Elves would instead like to know the total Calories carried by the top three Elves carrying the most Calories. That way, even if one of those Elves runs out of snacks, they still have two backups.\n",
    ">\n",
    ">In the example above, the top three Elves are the fourth Elf (with 24000 Calories), then the third Elf (with 11000 Calories), then the fifth Elf (with 10000 Calories). The sum of the Calories carried by these three elves is 45000.\n",
    ">\n",
    ">**Find the top three Elves carrying the most Calories. How many Calories are those Elves carrying in total?**\n",
    "\n",
    "Now, instead of just calculating the `max` value, we need to find the top three.\n",
    "\n",
    "Here, I sort the sums (with `reverse=True` to sort decreasing), take first three elements with [list slicing](https://docs.python.org/3/library/stdtypes.html#list) and calculate their sum.\n",
    "\n",
    "### Indexing and slicing lists\n",
    "\n",
    "To get an individual value from a Python list, you can use indexes:\n",
    "\n",
    "```\n",
    "numbers = [2, 4, 8, 16]\n",
    "item = numbers[2] # == 8\n",
    "```\n",
    "\n",
    "By providing an index into a square bracket after the variable name, you can access an individual element. If the index is negative number, Python will count from the end:\n",
    "\n",
    "```\n",
    "numbers = [2, 4, 8, 16]\n",
    "last = numbers[-1] # == 16\n",
    "```\n",
    "\n",
    "This is especially handy for accessing the last item in the list like above.\n",
    "\n",
    "If you want to get a sublist, you can use slices.\n",
    "\n",
    "```\n",
    "numbers = [1, 2, 3, 4, 5]\n",
    "middle_three = numbers[1:4] # == [2, 3, 4]\n",
    "```\n",
    "\n",
    "The first number is the `start` value and is inclusive and the second number is `end` and is not inclusive. So our slice `1:4` will include indexes 1, 2 and 3. If you want to include items from the beginning of the list, you can omit the `start` value and if you want to include items until the end, you can omit the `end` value:\n",
    "\n",
    "```\n",
    "numbers = [1, 2, 3, 4, 5]\n",
    "first_three = numbers[:3] # == [1, 2, 3]\n",
    "last_three = numbers[3:] # == [3, 4, 5]\n",
    "```\n",
    "\n",
    "If you omit both, you create a copy of the list:\n",
    "\n",
    "```\n",
    "numbers = [1, 2, 3]\n",
    "new_numbers = numbers[:] # == [1, 2, 3]\n",
    "```\n",
    "\n",
    "You can also provide a third number: `step`. By default, slices will advance one number at the time but with step, we can adjust that. If the `step` is negative, it will go the list in reverse order.\n",
    "\n",
    "```\n",
    "numbers = [1, 2, 3, 4, 5, 6, 7, 8]\n",
    "odds = numbers[::2] # == [1, 3, 5, 7]\n",
    "evens = numbers[1::2] # == [2, 4, 6, 8]\n",
    "reverse = numbers[::-1] # = [8, 7, 6, 5, 4, 3, 2, 1]\n",
    "```"
   ]
  },
  {
   "cell_type": "code",
   "execution_count": 24,
   "id": "a72ebacf",
   "metadata": {},
   "outputs": [
    {
     "name": "stdout",
     "output_type": "stream",
     "text": [
      "Part 2: 200116\n"
     ]
    }
   ],
   "source": [
    "top_3 = sorted((sum(x) for x in calories), reverse=True)[:3]\n",
    "total = sum(top_3)\n",
    "\n",
    "print(f'Part 2: {total}')\n",
    "assert total == 200116"
   ]
  },
  {
   "cell_type": "markdown",
   "id": "63ec8e90",
   "metadata": {},
   "source": [
    "# 2 stars! ⭐️⭐️\n",
    "\n",
    "The first day is a wrap! \n",
    "\n",
    "I'm really happy the first day was a straight-forward one as that helped me make sure that everything works and get myself adjusted into the Advent of Code mood for the next 23 days to come."
   ]
  }
 ],
 "metadata": {
  "kernelspec": {
   "display_name": "Python 3 (ipykernel)",
   "language": "python",
   "name": "python3"
  },
  "language_info": {
   "codemirror_mode": {
    "name": "ipython",
    "version": 3
   },
   "file_extension": ".py",
   "mimetype": "text/x-python",
   "name": "python",
   "nbconvert_exporter": "python",
   "pygments_lexer": "ipython3",
   "version": "3.10.0"
  }
 },
 "nbformat": 4,
 "nbformat_minor": 5
}
