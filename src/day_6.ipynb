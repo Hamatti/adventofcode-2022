{
 "cells": [
  {
   "cell_type": "markdown",
   "id": "2630db7a",
   "metadata": {},
   "source": [
    "# Day 6\n",
    "\n",
    "It's a [conference day](https://prague-2022.devrelcon.dev/) for me so I'll write out my text later. But code works, yay."
   ]
  },
  {
   "cell_type": "code",
   "execution_count": 2,
   "id": "d2a057d7",
   "metadata": {},
   "outputs": [],
   "source": [
    "from utils import read_input\n",
    "\n",
    "datastream = read_input(6)[0]"
   ]
  },
  {
   "cell_type": "code",
   "execution_count": 13,
   "id": "71ede81a",
   "metadata": {},
   "outputs": [],
   "source": [
    "def get_start_index(datastream, length=4):\n",
    "    last_four = datastream[:length]\n",
    "    if(len(set(last_four)) == length):\n",
    "        return length\n",
    "    \n",
    "    for idx, char in enumerate(datastream[length:], length):\n",
    "        last_four = last_four[1:] + char\n",
    "        if(len(set(last_four)) == length):\n",
    "            return idx + 1"
   ]
  },
  {
   "cell_type": "code",
   "execution_count": 12,
   "id": "e649e7b0",
   "metadata": {},
   "outputs": [
    {
     "name": "stdout",
     "output_type": "stream",
     "text": [
      "Part 1: 1109\n"
     ]
    }
   ],
   "source": [
    "solution_1 = get_start_index(datastream)\n",
    "print(f'Part 1: {solution_1}')\n",
    "assert solution_1 == 1109"
   ]
  },
  {
   "cell_type": "markdown",
   "id": "29a6e7d4",
   "metadata": {},
   "source": [
    "## Part 2"
   ]
  },
  {
   "cell_type": "code",
   "execution_count": 16,
   "id": "e73e6026",
   "metadata": {},
   "outputs": [
    {
     "name": "stdout",
     "output_type": "stream",
     "text": [
      "Part 2: 3965\n"
     ]
    }
   ],
   "source": [
    "solution_2 = get_start_index(datastream, 14)\n",
    "print(f'Part 2: {solution_2}')\n",
    "assert solution_2 == 3965"
   ]
  }
 ],
 "metadata": {
  "kernelspec": {
   "display_name": "Python 3 (ipykernel)",
   "language": "python",
   "name": "python3"
  },
  "language_info": {
   "codemirror_mode": {
    "name": "ipython",
    "version": 3
   },
   "file_extension": ".py",
   "mimetype": "text/x-python",
   "name": "python",
   "nbconvert_exporter": "python",
   "pygments_lexer": "ipython3",
   "version": "3.10.0"
  }
 },
 "nbformat": 4,
 "nbformat_minor": 5
}
