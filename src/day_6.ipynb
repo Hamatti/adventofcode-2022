{
 "cells": [
  {
   "cell_type": "markdown",
   "id": "2630db7a",
   "metadata": {},
   "source": [
    "# Day 6 - Tuning Trouble\n",
    "\n",
    "> The preparations are finally complete; you and the Elves leave camp on foot and begin to make your way toward the star fruit grove.\n",
    ">\n",
    ">As you move through the dense undergrowth, one of the Elves gives you a handheld device. He says that it has many fancy features, but the most important one to set up right now is the communication system.\n",
    ">\n",
    ">However, because he's heard you have significant experience dealing with signal-based systems, he convinced the other Elves that it would be okay to give you their one malfunctioning device - surely you'll have no problem fixing it.\n",
    ">\n",
    ">As if inspired by comedic timing, the device emits a few colorful sparks.\n",
    ">\n",
    ">To be able to communicate with the Elves, the device needs to lock on to their signal. The signal is a series of seemingly-random characters that the device receives one at a time.\n",
    ">\n",
    ">To fix the communication system, you need to add a subroutine to the device that detects a start-of-packet marker in the datastream. In the protocol being used by the Elves, the start of a packet is indicated by a sequence of four characters that are all different.\n",
    ">\n",
    ">The device will send your subroutine a datastream buffer (your puzzle input); your subroutine needs to identify the first position where the four most recently received characters were all different. Specifically, it needs to report the number of characters from the beginning of the buffer to the end of the first such four-character marker.\n",
    ">\n",
    ">For example, suppose you receive the following datastream buffer:\n",
    ">```\n",
    ">mjqjpqmgbljsphdztnvjfqwrcgsmlb\n",
    ">```\n",
    ">After the first three characters (mjq) have been received, there haven't been enough characters received yet to find the marker. The first time a marker could occur is after the fourth character is received, making the most recent four characters mjqj. Because j is repeated, this isn't a marker.\n",
    ">\n",
    ">The first time a marker appears is after the seventh character arrives. Once it does, the last four characters received are jpqm, which are all different. In this case, your subroutine should report the value 7, because the first start-of-packet marker is complete after 7 characters have been processed.\n",
    ">\n",
    ">Here are a few more examples:\n",
    ">\n",
    ">- `bvwbjplbgvbhsrlpgdmjqwftvncz`: first marker after character 5\n",
    ">- `nppdvjthqldpwncqszvftbrmjlhg`: first marker after character 6\n",
    ">- `nznrnfrfntjfmvfwmzdfjlvtqnbhcprsg`: first marker after character 10\n",
    ">- `zcfzfwzzqfrljwzlrfnpqdbhtmscgvjw`: first marker after character 11"
   ]
  },
  {
   "cell_type": "markdown",
   "id": "b9bf1471",
   "metadata": {},
   "source": [
    "## Read input\n",
    "\n",
    "Today's input is simple: a single-line string."
   ]
  },
  {
   "cell_type": "code",
   "execution_count": 2,
   "id": "d2a057d7",
   "metadata": {},
   "outputs": [],
   "source": [
    "from utils import read_input\n",
    "\n",
    "datastream = read_input(6)[0]"
   ]
  },
  {
   "cell_type": "markdown",
   "id": "0fef49d3",
   "metadata": {},
   "source": [
    "## Part 1\n",
    "\n",
    "> **How many characters need to be processed before the first start-of-packet marker is detected?**\n",
    "\n",
    "To find the first correct sequence of four characters without repeats, I start by looking at the first 4 characters and turning them into a [set](https://docs.python.org/3/tutorial/datastructures.html#sets) (a set is a data structure that does not store duplicates of items so it's perfect for this). I then check if the length of that set, (that is: how many unique characters are in that set), matches our desired length.\n",
    "\n",
    "I then loop over the characters in the datastream one by one, removing the oldest one in the window and checking for the length.\n",
    "\n",
    "The result is the next character's index."
   ]
  },
  {
   "cell_type": "code",
   "execution_count": 5,
   "id": "71ede81a",
   "metadata": {},
   "outputs": [],
   "source": [
    "def get_start_index(datastream, length=4):\n",
    "    current_window = datastream[:length]\n",
    "    if(len(set(current_window)) == length):\n",
    "        return length\n",
    "    \n",
    "    for idx, char in enumerate(datastream[length:], length):\n",
    "        current_window = current_window[1:] + char\n",
    "        if(len(set(current_window)) == length):\n",
    "            return idx + 1"
   ]
  },
  {
   "cell_type": "code",
   "execution_count": 12,
   "id": "e649e7b0",
   "metadata": {},
   "outputs": [
    {
     "name": "stdout",
     "output_type": "stream",
     "text": [
      "Part 1: 1109\n"
     ]
    }
   ],
   "source": [
    "solution_1 = get_start_index(datastream)\n",
    "print(f'Part 1: {solution_1}')\n",
    "assert solution_1 == 1109"
   ]
  },
  {
   "cell_type": "markdown",
   "id": "29a6e7d4",
   "metadata": {},
   "source": [
    "## Part 2\n",
    "\n",
    ">Your device's communication system is correctly detecting packets, but still isn't working. It looks like it also needs to look for messages.\n",
    ">\n",
    ">A start-of-message marker is just like a start-of-packet marker, except it consists of 14 distinct characters rather than 4.\n",
    ">\n",
    ">Here are the first positions of start-of-message markers for all of the above examples:\n",
    "\n",
    ">- `mjqjpqmgbljsphdztnvjfqwrcgsmlb`: first marker after character 19\n",
    ">- `bvwbjplbgvbhsrlpgdmjqwftvncz`: first marker after character 23\n",
    ">- `nppdvjthqldpwncqszvftbrmjlhg`: first marker after character 23\n",
    ">- `nznrnfrfntjfmvfwmzdfjlvtqnbhcprsg`: first marker after character 29\n",
    ">- `zcfzfwzzqfrljwzlrfnpqdbhtmscgvjw`: first marker after character 26\n",
    ">\n",
    ">**How many characters need to be processed before the first start-of-message marker is detected?**\n",
    "\n",
    "The second part is exactly the same as the first but we look at 14 characters instead of 4 at once."
   ]
  },
  {
   "cell_type": "code",
   "execution_count": 16,
   "id": "e73e6026",
   "metadata": {
    "scrolled": true
   },
   "outputs": [
    {
     "name": "stdout",
     "output_type": "stream",
     "text": [
      "Part 2: 3965\n"
     ]
    }
   ],
   "source": [
    "solution_2 = get_start_index(datastream, 14)\n",
    "print(f'Part 2: {solution_2}')\n",
    "assert solution_2 == 3965"
   ]
  }
 ],
 "metadata": {
  "kernelspec": {
   "display_name": "Python 3 (ipykernel)",
   "language": "python",
   "name": "python3"
  },
  "language_info": {
   "codemirror_mode": {
    "name": "ipython",
    "version": 3
   },
   "file_extension": ".py",
   "mimetype": "text/x-python",
   "name": "python",
   "nbconvert_exporter": "python",
   "pygments_lexer": "ipython3",
   "version": "3.10.0"
  }
 },
 "nbformat": 4,
 "nbformat_minor": 5
}
