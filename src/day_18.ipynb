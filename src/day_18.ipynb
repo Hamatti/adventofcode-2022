{
 "cells": [
  {
   "cell_type": "markdown",
   "id": "6628f98b",
   "metadata": {},
   "source": [
    "# Day 18 - Boiling Boulders\n",
    "\n",
    ">You and the elephants finally reach fresh air. You've emerged near the base of a large volcano that seems to be actively erupting! Fortunately, the lava seems to be flowing away from you and toward the ocean.\n",
    ">\n",
    ">Bits of lava are still being ejected toward you, so you're sheltering in the cavern exit a little longer. Outside the cave, you can see the lava landing in a pond and hear it loudly hissing as it solidifies.\n",
    ">\n",
    ">Depending on the specific compounds in the lava and speed at which it cools, it might be forming obsidian! The cooling rate should be based on the surface area of the lava droplets, so you take a quick scan of a droplet as it flies past you (your puzzle input).\n",
    ">\n",
    ">Because of how quickly the lava is moving, the scan isn't very good; its resolution is quite low and, as a result, it approximates the shape of the lava droplet with 1x1x1 cubes on a 3D grid, each given as its x,y,z position.\n",
    ">\n",
    ">To approximate the surface area, count the number of sides of each cube that are not immediately connected to another cube. So, if your scan were only two adjacent cubes like 1,1,1 and 2,1,1, each cube would have a single side covered and five sides exposed, a total surface area of 10 sides.\n",
    ">\n",
    ">Here's a larger example:\n",
    ">```\n",
    ">2,2,2\n",
    ">1,2,2\n",
    ">3,2,2\n",
    ">2,1,2\n",
    ">2,3,2\n",
    ">2,2,1\n",
    ">2,2,3\n",
    ">2,2,4\n",
    ">2,2,6\n",
    ">1,2,5\n",
    ">3,2,5\n",
    ">2,1,5\n",
    ">2,3,5\n",
    ">```\n",
    ">In the above example, after counting up all the sides that aren't connected to another cube, the total surface area is 64."
   ]
  },
  {
   "cell_type": "markdown",
   "id": "aa2544db",
   "metadata": {},
   "source": [
    "To approach today's puzzle, I figured I need to loop over the coordinates twice: once to add a count to all of each points' neighbors and then again to check how many neighbors did each cube have. I would then deduct that count from 6 and calculate the sum of them all."
   ]
  },
  {
   "cell_type": "markdown",
   "id": "f48feaa6",
   "metadata": {},
   "source": [
    "## Read input"
   ]
  },
  {
   "cell_type": "code",
   "execution_count": 16,
   "id": "c0752b58",
   "metadata": {},
   "outputs": [],
   "source": [
    "from utils import read_input\n",
    "from collections import namedtuple\n",
    "\n",
    "Point = namedtuple('Point', ['x', 'y', 'z'])\n",
    "\n",
    "def transformer(line):\n",
    "    return Point(*[int(n) for n in line.split(',')])\n",
    "\n",
    "points = read_input(18, transformer)\n",
    "example = read_input(18, transformer, True)"
   ]
  },
  {
   "cell_type": "markdown",
   "id": "dda1f103",
   "metadata": {},
   "source": [
    "To find how many neighboring cubes each cube has, I loop over them and add 1 to each of the adjacent coordinates."
   ]
  },
  {
   "cell_type": "code",
   "execution_count": 4,
   "id": "05a3d428",
   "metadata": {},
   "outputs": [],
   "source": [
    "from collections import defaultdict\n",
    "\n",
    "def find_neighbors(points):\n",
    "    grid = defaultdict(int)\n",
    "    \n",
    "    for point in points:\n",
    "        grid[Point(point.x, point.y, point.z - 1)] += 1\n",
    "        grid[Point(point.x, point.y, point.z + 1)] += 1\n",
    "        \n",
    "        grid[Point(point.x, point.y - 1, point.z)] += 1\n",
    "        grid[Point(point.x, point.y + 1, point.z)] += 1\n",
    "        \n",
    "        grid[Point(point.x - 1, point.y, point.z)] += 1\n",
    "        grid[Point(point.x + 1, point.y, point.z)] += 1\n",
    "\n",
    "    return grid"
   ]
  },
  {
   "cell_type": "markdown",
   "id": "b26e0da2",
   "metadata": {},
   "source": [
    "And then for the cubes we have, subtract their neighbors from total number of sides, 6, and tally up the sum."
   ]
  },
  {
   "cell_type": "code",
   "execution_count": 8,
   "id": "9ab60489",
   "metadata": {},
   "outputs": [],
   "source": [
    "def calculate_clear_edges(points, grid):\n",
    "    return sum(6 - grid[point] for point in points)"
   ]
  },
  {
   "cell_type": "markdown",
   "id": "fb090ab8",
   "metadata": {},
   "source": [
    "## Part 1\n",
    "\n",
    "> **What is the surface area of your scanned lava droplet?**"
   ]
  },
  {
   "cell_type": "code",
   "execution_count": 12,
   "id": "2755f420",
   "metadata": {},
   "outputs": [
    {
     "name": "stdout",
     "output_type": "stream",
     "text": [
      "Part 1: 3564\n"
     ]
    }
   ],
   "source": [
    "grid = find_neighbors(points)\n",
    "clear_edges = calculate_clear_edges(points, grid)\n",
    "\n",
    "print(f'Part 1: {clear_edges}')\n",
    "assert clear_edges == 3564"
   ]
  },
  {
   "cell_type": "markdown",
   "id": "2c016da9",
   "metadata": {},
   "source": [
    "## Part 2\n",
    "\n",
    ">Something seems off about your calculation. The cooling rate depends on exterior surface area, but your calculation also included the surface area of air pockets trapped in the lava droplet.\n",
    ">\n",
    ">Instead, consider only cube sides that could be reached by the water and steam as the lava droplet tumbles into the pond. The steam will expand to reach as much as possible, completely displacing any air on the outside of the lava droplet but never expanding diagonally.\n",
    ">\n",
    ">In the larger example above, exactly one cube of air is trapped within the lava droplet (at 2,2,5), so the exterior surface area of the lava droplet is 58.\n",
    ">\n",
    ">**What is the exterior surface area of your scanned lava droplet?**"
   ]
  },
  {
   "cell_type": "code",
   "execution_count": 66,
   "id": "ff3fa2e3",
   "metadata": {},
   "outputs": [
    {
     "name": "stdout",
     "output_type": "stream",
     "text": [
      "3564 3298\n",
      "Part 2: 266\n"
     ]
    },
    {
     "ename": "AssertionError",
     "evalue": "",
     "output_type": "error",
     "traceback": [
      "\u001b[0;31m---------------------------------------------------------------------------\u001b[0m",
      "\u001b[0;31mAssertionError\u001b[0m                            Traceback (most recent call last)",
      "Cell \u001b[0;32mIn[66], line 66\u001b[0m\n\u001b[1;32m     64\u001b[0m part2 \u001b[38;5;241m=\u001b[39m calculate_outer_edges(\u001b[38;5;28mset\u001b[39m(points), grid, trapped)\n\u001b[1;32m     65\u001b[0m \u001b[38;5;28mprint\u001b[39m(\u001b[38;5;124mf\u001b[39m\u001b[38;5;124m'\u001b[39m\u001b[38;5;124mPart 2: \u001b[39m\u001b[38;5;132;01m{\u001b[39;00mpart2\u001b[38;5;132;01m}\u001b[39;00m\u001b[38;5;124m'\u001b[39m)\n\u001b[0;32m---> 66\u001b[0m \u001b[38;5;28;01massert\u001b[39;00m part2 \u001b[38;5;241m==\u001b[39m \u001b[38;5;241m2106\u001b[39m\n",
      "\u001b[0;31mAssertionError\u001b[0m: "
     ]
    }
   ],
   "source": [
    "def find_trapped(points, grid):\n",
    "    xs = [p.x for p in points]\n",
    "    ys = [p.y for p in points]\n",
    "    zs = [p.z for p in points]\n",
    "    \n",
    "    min_x = min(xs)\n",
    "    max_x = max(xs)\n",
    "    min_y = min(ys)\n",
    "    max_y = max(ys)\n",
    "    min_z = min(zs)\n",
    "    max_z = max(zs)\n",
    "\n",
    "    trapped = set()\n",
    "    for point in gen_bounded_coordinates(points):\n",
    "        print(point)\n",
    "        if point in points:\n",
    "            continue\n",
    "        q = [point]\n",
    "        visited = set([point])\n",
    "        while q:\n",
    "            next_point = q.pop(0)\n",
    "            if (next_point.x < min_x or \n",
    "                next_point.x > max_x or \n",
    "                next_point.y < min_y or \n",
    "                next_point.y > max_y or \n",
    "                next_point.z < min_z or \n",
    "                next_point.z > max_z):\n",
    "                break\n",
    "            for xd,yd,zd in [(1,0,0), (-1,0,0), (0,1,0), (0,-1,0), (0,0,1), (0,0,-1)]:\n",
    "                x2 = next_point.x+xd\n",
    "                y2 = next_point.y+yd\n",
    "                z2 = next_point.z+zd\n",
    "                p2 = Point(x2, y2, z2)\n",
    "                if p2 not in points and p2 not in visited:\n",
    "                    q.append(p2)\n",
    "                    visited.add(p2)\n",
    "        if not q:\n",
    "            trapped.add(point)\n",
    "\n",
    "    return trapped\n",
    "\n",
    "def calculate_outer_edges(points, grid, trapped):\n",
    "    all_edges = sum(6 - grid[point] for point in points)\n",
    "    trapped_edges = sum(grid[point] for point in trapped)\n",
    "    print(all_edges, trapped_edges)\n",
    "    return all_edges - trapped_edges\n",
    "    \n",
    "    \n",
    "def gen_bounded_coordinates(lava):\n",
    "    x_min = min(p.x for p in lava)\n",
    "    x_max = max(p.x for p in lava)\n",
    "    y_min = min(p.y for p in lava)\n",
    "    y_max = max(p.y for p in lava)\n",
    "    z_min = min(p.z for p in lava)\n",
    "    z_max = max(p.z for p in lava)\n",
    "    for x in range(x_min, x_max+1):\n",
    "        for y in range(y_min, y_max+1):\n",
    "            for z in range(z_min, z_max+1):\n",
    "                yield Point(x,y,z)\n",
    "\n",
    "grid = find_neighbors(points)\n",
    "trapped = find_trapped(points, grid)\n",
    "all_edges = calculate_clear_edges(example, grid)\n",
    "part2 = calculate_outer_edges(set(points), grid, trapped)\n",
    "print(f'Part 2: {part2}')\n",
    "assert part2 == 2106"
   ]
  }
 ],
 "metadata": {
  "kernelspec": {
   "display_name": "Python 3 (ipykernel)",
   "language": "python",
   "name": "python3"
  },
  "language_info": {
   "codemirror_mode": {
    "name": "ipython",
    "version": 3
   },
   "file_extension": ".py",
   "mimetype": "text/x-python",
   "name": "python",
   "nbconvert_exporter": "python",
   "pygments_lexer": "ipython3",
   "version": "3.10.5"
  }
 },
 "nbformat": 4,
 "nbformat_minor": 5
}
