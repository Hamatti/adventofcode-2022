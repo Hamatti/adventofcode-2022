{
 "cells": [
  {
   "cell_type": "markdown",
   "id": "613d863f",
   "metadata": {},
   "source": [
    "# Day 15"
   ]
  },
  {
   "cell_type": "code",
   "execution_count": 1,
   "id": "1f9ffcd0",
   "metadata": {},
   "outputs": [],
   "source": [
    "from utils import read_input\n",
    "import re\n",
    "\n",
    "def transformer(line):\n",
    "    numbers = re.findall('-?\\d+', line)\n",
    "    sensor = int(numbers[0]) + int(numbers[1]) * 1j\n",
    "    beacon = int(numbers[2]) + int(numbers[3]) * 1j\n",
    "    return sensor, beacon\n",
    "\n",
    "example = read_input(15, transformer, True)\n",
    "data = read_input(15, transformer)"
   ]
  },
  {
   "cell_type": "code",
   "execution_count": 2,
   "id": "a00179b2",
   "metadata": {},
   "outputs": [],
   "source": [
    "import math\n",
    "\n",
    "def distance(sensor, beacon):\n",
    "    \"\"\"\n",
    "    Calculates Manhattan distance between two points\n",
    "\n",
    "    >>> distance(0, 3)\n",
    "    3\n",
    "    >>> distance(3, 0)\n",
    "    3\n",
    "    >>> distance(1+4j, 3+3j)\n",
    "    3\n",
    "    >>> distance((2+18j), (-2+15j))\n",
    "    7\n",
    "    \"\"\"\n",
    "    return int(abs(beacon.real - sensor.real) + abs(beacon.imag - sensor.imag))"
   ]
  },
  {
   "cell_type": "code",
   "execution_count": 3,
   "id": "0947de9f",
   "metadata": {},
   "outputs": [],
   "source": [
    "def overlaps(sensor, beacon, target):\n",
    "    \"\"\"\n",
    "    >>> overlaps(8+7j, 2+10j, 15)\n",
    "    True\n",
    "    >>> overlaps(8+7j, 2+10j, 20)\n",
    "    False\n",
    "    >>> overlaps(8+7j, 2+10j, -2)\n",
    "    True\n",
    "    >>> overlaps(8+7j, 2+10j, -6)\n",
    "    False\n",
    "    \"\"\"\n",
    "    dist = distance(sensor, beacon)\n",
    "    if sensor.imag - dist <= target <= sensor.imag + dist:\n",
    "        return True\n",
    "    return False"
   ]
  },
  {
   "cell_type": "code",
   "execution_count": 4,
   "id": "eeb5ba12",
   "metadata": {},
   "outputs": [],
   "source": [
    "def points_on_line(sensor, distance, target):\n",
    "    \"\"\"\n",
    "    >>> points_on_line(8+7j, 9, 10)\n",
    "    {(2+10j), (3+10j), (4+10j), (5+10j), (6+10j), (7+10j), (8+10j), (9+10j), (10+10j), (11+10j), (12+10j), (13+10j), (14+10j)}\n",
    "    \"\"\"\n",
    "    points = set()\n",
    "    if target < sensor.imag:\n",
    "        dy = int(sensor.imag) - target\n",
    "    else:\n",
    "        dy = target - int(sensor.imag)\n",
    "        \n",
    "    width = distance - dy\n",
    "    for x in range(int(sensor.real) - width, int(sensor.real) + width + 1):\n",
    "        points.add(x + target * 1j)\n",
    "    return points"
   ]
  },
  {
   "cell_type": "code",
   "execution_count": 5,
   "id": "1aad536a",
   "metadata": {},
   "outputs": [],
   "source": [
    "def remove_beacons(points, sensors_and_beacons):\n",
    "    for _, beacon in sensors_and_beacons:\n",
    "        points.discard(beacon)\n",
    "    return points"
   ]
  },
  {
   "cell_type": "code",
   "execution_count": 8,
   "id": "31a15723",
   "metadata": {
    "scrolled": true
   },
   "outputs": [],
   "source": [
    "def solve(sensors_and_beacons, target, x=True):\n",
    "    points = set()\n",
    "    for sensor, beacon in sensors_and_beacons:\n",
    "        dist = distance(sensor, beacon)\n",
    "        if overlaps(sensor, beacon, target):\n",
    "            points = points | points_on_line(sensor, dist, target)\n",
    "    if x:\n",
    "        points = remove_beacons(points, sensors_and_beacons)\n",
    "    return points\n"
   ]
  },
  {
   "cell_type": "code",
   "execution_count": 9,
   "id": "bb70b6e7",
   "metadata": {},
   "outputs": [
    {
     "name": "stdout",
     "output_type": "stream",
     "text": [
      "Part 1: 5240818\n"
     ]
    }
   ],
   "source": [
    "charted = solve(data, 2000000)\n",
    "charted = remove_beacons(charted, data)\n",
    "print(f'Part 1: {len(charted)}')\n",
    "assert len(charted) == 5240818"
   ]
  },
  {
   "cell_type": "markdown",
   "id": "3ef6c86a",
   "metadata": {},
   "source": [
    "## Part 2"
   ]
  },
  {
   "cell_type": "code",
   "execution_count": null,
   "id": "eebc9825",
   "metadata": {},
   "outputs": [],
   "source": []
  },
  {
   "cell_type": "code",
   "execution_count": null,
   "id": "bc58d58a",
   "metadata": {},
   "outputs": [],
   "source": [
    "def find_uncharted(sensors_and_beacons, max_x, max_y):\n",
    "    uncharted = set()\n",
    "    for y in range(0, max_y+1):\n",
    "        print(y)\n",
    "        charted = solve(sensors_and_beacons, y, False)\n",
    "        for x in range(0, max_x+1):\n",
    "            if x+y*1j not in charted:\n",
    "                uncharted.add(x+y*1j)\n",
    "    return uncharted\n",
    "\n",
    "all_uncharted = find_uncharted(data, 4000000, 4000000)\n",
    "#all_uncharted = find_uncharted(example, 20, 20)\n",
    "uncharted = all_uncharted.pop()\n",
    "tuning_freq = int(uncharted.real) * 4000000 + int(uncharted.imag)\n",
    "\n",
    "print(uncharted, tuning_freq)"
   ]
  },
  {
   "cell_type": "code",
   "execution_count": null,
   "id": "b4d5b55d",
   "metadata": {},
   "outputs": [],
   "source": [
    "import doctest\n",
    "doctest.testmod()"
   ]
  }
 ],
 "metadata": {
  "kernelspec": {
   "display_name": "Python 3 (ipykernel)",
   "language": "python",
   "name": "python3"
  },
  "language_info": {
   "codemirror_mode": {
    "name": "ipython",
    "version": 3
   },
   "file_extension": ".py",
   "mimetype": "text/x-python",
   "name": "python",
   "nbconvert_exporter": "python",
   "pygments_lexer": "ipython3",
   "version": "3.10.0"
  }
 },
 "nbformat": 4,
 "nbformat_minor": 5
}
