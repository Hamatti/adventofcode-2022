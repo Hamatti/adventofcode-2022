{
 "cells": [
  {
   "cell_type": "markdown",
   "id": "613d863f",
   "metadata": {},
   "source": [
    "# Day 15 - Beacon Exclusion Zone\n",
    "\n",
    ">You feel the ground rumble again as the distress signal leads you to a large network of subterranean tunnels. You don't have time to search them all, but you don't need to: your pack contains a set of deployable sensors that you imagine were originally built to locate lost Elves.\n",
    ">\n",
    ">The sensors aren't very powerful, but that's okay; your handheld device indicates that you're close enough to the source of the distress signal to use them. You pull the emergency sensor system out of your pack, hit the big button on top, and the sensors zoom off down the tunnels.\n",
    ">\n",
    ">Once a sensor finds a spot it thinks will give it a good reading, it attaches itself to a hard surface and begins monitoring for the nearest signal source beacon. Sensors and beacons always exist at integer coordinates. Each sensor knows its own position and can determine the position of a beacon precisely; however, sensors can only lock on to the one beacon closest to the sensor as measured by the Manhattan distance. (There is never a tie where two beacons are the same distance to a sensor.)\n",
    ">\n",
    ">It doesn't take long for the sensors to report back their positions and closest beacons (your puzzle input). For example:\n",
    ">```\n",
    ">Sensor at x=2, y=18: closest beacon is at x=-2, y=15\n",
    ">Sensor at x=9, y=16: closest beacon is at x=10, y=16\n",
    ">Sensor at x=13, y=2: closest beacon is at x=15, y=3\n",
    ">Sensor at x=12, y=14: closest beacon is at x=10, y=16\n",
    ">Sensor at x=10, y=20: closest beacon is at x=10, y=16\n",
    ">Sensor at x=14, y=17: closest beacon is at x=10, y=16\n",
    ">Sensor at x=8, y=7: closest beacon is at x=2, y=10\n",
    ">Sensor at x=2, y=0: closest beacon is at x=2, y=10\n",
    ">Sensor at x=0, y=11: closest beacon is at x=2, y=10\n",
    ">Sensor at x=20, y=14: closest beacon is at x=25, y=17\n",
    ">Sensor at x=17, y=20: closest beacon is at x=21, y=22\n",
    ">Sensor at x=16, y=7: closest beacon is at x=15, y=3\n",
    ">Sensor at x=14, y=3: closest beacon is at x=15, y=3\n",
    ">Sensor at x=20, y=1: closest beacon is at x=15, y=3\n",
    ">```\n",
    ">So, consider the sensor at 2,18; the closest beacon to it is at -2,15. For the sensor at 9,16, the closest beacon to it is at 10,16.\n",
    ">\n",
    ">Drawing sensors as S and beacons as B, the above arrangement of sensors and beacons looks like this:\n",
    ">```\n",
    ">               1    1    2    2\n",
    ">     0    5    0    5    0    5\n",
    "> 0 ....S.......................\n",
    "> 1 ......................S.....\n",
    "> 2 ...............S............\n",
    "> 3 ................SB..........\n",
    "> 4 ............................\n",
    "> 5 ............................\n",
    "> 6 ............................\n",
    "> 7 ..........S.......S.........\n",
    "> 8 ............................\n",
    "> 9 ............................\n",
    ">10 ....B.......................\n",
    ">11 ..S.........................\n",
    ">12 ............................\n",
    ">13 ............................\n",
    ">14 ..............S.......S.....\n",
    ">15 B...........................\n",
    ">16 ...........SB...............\n",
    ">17 ................S..........B\n",
    ">18 ....S.......................\n",
    ">19 ............................\n",
    ">20 ............S......S........\n",
    ">21 ............................\n",
    ">22 .......................B....\n",
    ">```\n",
    ">This isn't necessarily a comprehensive map of all beacons in the area, though. Because each sensor only identifies its closest beacon, if a sensor detects a beacon, you know there are no other beacons that close or closer to that sensor. There could still be beacons that just happen to not be the closest beacon to any sensor. Consider the sensor at 8,7:\n",
    ">```\n",
    ">               1    1    2    2\n",
    ">     0    5    0    5    0    5\n",
    ">-2 ..........#.................\n",
    ">-1 .........###................\n",
    "> 0 ....S...#####...............\n",
    "> 1 .......#######........S.....\n",
    "> 2 ......#########S............\n",
    "> 3 .....###########SB..........\n",
    "> 4 ....#############...........\n",
    "> 5 ...###############..........\n",
    "> 6 ..#################.........\n",
    "> 7 .#########S#######S#........\n",
    "> 8 ..#################.........\n",
    "> 9 ...###############..........\n",
    ">10 ....B############...........\n",
    ">11 ..S..###########............\n",
    ">12 ......#########.............\n",
    ">13 .......#######..............\n",
    ">14 ........#####.S.......S.....\n",
    ">15 B........###................\n",
    ">16 ..........#SB...............\n",
    ">17 ................S..........B\n",
    ">18 ....S.......................\n",
    ">19 ............................\n",
    ">20 ............S......S........\n",
    ">21 ............................\n",
    ">22 .......................B....\n",
    ">```\n",
    ">This sensor's closest beacon is at 2,10, and so you know there are no beacons that close or closer (in any positions marked #).\n",
    ">\n",
    ">None of the detected beacons seem to be producing the distress signal, so you'll need to work out where the distress beacon is by working out where it isn't. For now, keep things simple by counting the positions where a beacon cannot possibly be along just a single row.\n",
    ">\n",
    ">So, suppose you have an arrangement of beacons and sensors like in the example above and, just in the row where y=10, you'd like to count the number of positions a beacon cannot possibly exist. The coverage from all sensors near that row looks like this:\n",
    ">```\n",
    ">                 1    1    2    2\n",
    ">       0    5    0    5    0    5\n",
    "> 9 ...#########################...\n",
    ">10 ..####B######################..\n",
    ">11 .###S#############.###########.\n",
    ">```\n",
    ">In this example, in the row where `y=10`, there are 26 positions where a beacon cannot be present.\n",
    ">\n",
    ">Consult the report from the sensors you just deployed. In the row where y=2000000, how many positions cannot contain a beacon?"
   ]
  },
  {
   "cell_type": "markdown",
   "id": "11e9e7c8",
   "metadata": {},
   "source": [
    "When I woke up and saw the word **Beacon** in the title, my first reaction was mild panic. I never managed to solve last year's 3D beacon puzzle and was afraid this would be similar.\n",
    "\n",
    "It wasn't but it was still quite a challenge."
   ]
  },
  {
   "cell_type": "markdown",
   "id": "f44cf1e8",
   "metadata": {},
   "source": [
    "## Read input\n",
    "\n",
    "I figured we'll be doing some coordinate math today so I'm once again using [the complex numbers coordinate system, explained here](https://hamatti.org/adventofcode/2015/day_3/).\n",
    "\n",
    "For each line, I use regex to find all numbers and use them to create a pair of sensor & beacon pair."
   ]
  },
  {
   "cell_type": "code",
   "execution_count": 1,
   "id": "1f9ffcd0",
   "metadata": {},
   "outputs": [],
   "source": [
    "from utils import read_input\n",
    "import re\n",
    "\n",
    "def transformer(line):\n",
    "    numbers = re.findall('-?\\d+', line)\n",
    "    sensor = int(numbers[0]) + int(numbers[1]) * 1j\n",
    "    beacon = int(numbers[2]) + int(numbers[3]) * 1j\n",
    "    return sensor, beacon\n",
    "\n",
    "example = read_input(15, transformer, True)\n",
    "data = read_input(15, transformer)"
   ]
  },
  {
   "cell_type": "markdown",
   "id": "5683b105",
   "metadata": {},
   "source": [
    "Manhattan distance of two numbers follows the formula: `|x1 - x0| + |y1 - y0|`. With our Complex Coordinates, we can just subtract first from the second and then calculate the sum of its (absolute) real and imaginary parts."
   ]
  },
  {
   "cell_type": "code",
   "execution_count": 115,
   "id": "a00179b2",
   "metadata": {},
   "outputs": [],
   "source": [
    "def distance(sensor, beacon):\n",
    "    \"\"\"\n",
    "    Calculates Manhattan distance between two points\n",
    "\n",
    "    >>> distance(0, 3)\n",
    "    3\n",
    "    >>> distance(3, 0)\n",
    "    3\n",
    "    >>> distance(1+4j, 3+3j)\n",
    "    3\n",
    "    >>> distance((2+18j), (-2+15j))\n",
    "    7\n",
    "    \"\"\"\n",
    "    dist = beacon - sensor\n",
    "    return int(abs(dist.real) + abs(dist.imag))"
   ]
  },
  {
   "cell_type": "markdown",
   "id": "57809cf6",
   "metadata": {},
   "source": [
    "I didn't want to populate the full grid with each sensor's reach because the puzzle is only interested in a single line.\n",
    "\n",
    "`overlaps` checks if a given a `sensor`, knowing its `beacon` location, has reach on a given `target` line.\n",
    "\n",
    "I do that by calculating the distance between sensor and beacon and then checking if the target y coordinate is within that distance from sensor's y coordinate."
   ]
  },
  {
   "cell_type": "code",
   "execution_count": 3,
   "id": "0947de9f",
   "metadata": {},
   "outputs": [],
   "source": [
    "def overlaps(sensor, beacon, target):\n",
    "    \"\"\"\n",
    "    >>> overlaps(8+7j, 2+10j, 15)\n",
    "    True\n",
    "    >>> overlaps(8+7j, 2+10j, 20)\n",
    "    False\n",
    "    >>> overlaps(8+7j, 2+10j, -2)\n",
    "    True\n",
    "    >>> overlaps(8+7j, 2+10j, -6)\n",
    "    False\n",
    "    \"\"\"\n",
    "    dist = distance(sensor, beacon)\n",
    "    if sensor.imag - dist <= target <= sensor.imag + dist:\n",
    "        return True\n",
    "    return False"
   ]
  },
  {
   "cell_type": "markdown",
   "id": "1d1b3cee",
   "metadata": {},
   "source": [
    "To find out which coordinates a given sensor overlaps on a target line, I use `points_on_line` function.\n",
    "\n",
    "It calculates the width (how many to left and to right from sensor's x coordinate it reaches on that y coordinate) and then adds all the points on that line. It's bit slow but did manage to solve the part 1 in a reasonable enough time that I didn't bother refactoring."
   ]
  },
  {
   "cell_type": "code",
   "execution_count": 4,
   "id": "eeb5ba12",
   "metadata": {},
   "outputs": [],
   "source": [
    "def points_on_line(sensor, distance, target):\n",
    "    \"\"\"\n",
    "    >>> points_on_line(8+7j, 9, 10)\n",
    "    {(2+10j), (3+10j), (4+10j), (5+10j), (6+10j), (7+10j), (8+10j), (9+10j), (10+10j), (11+10j), (12+10j), (13+10j), (14+10j)}\n",
    "    \"\"\"\n",
    "    points = set()\n",
    "    if target < sensor.imag:\n",
    "        dy = int(sensor.imag) - target\n",
    "    else:\n",
    "        dy = target - int(sensor.imag)\n",
    "        \n",
    "    width = distance - dy\n",
    "    for x in range(int(sensor.real) - width, int(sensor.real) + width + 1):\n",
    "        points.add(x + target * 1j)\n",
    "    return points"
   ]
  },
  {
   "cell_type": "markdown",
   "id": "789093b7",
   "metadata": {},
   "source": [
    "Because the question was\n",
    "\n",
    "> **In the row where y=2000000, how many positions cannot contain a beacon?**\n",
    "\n",
    "we need to then remove all the beacons already in that line. For that, `remove_beacons` loops through all beacons and removes their locations from the `points` set.\n",
    "\n",
    "### `set.remove` and `set.discard`\n",
    "\n",
    "Python's set has two methods to take out items: `remove` and `discard`. It's crucial to know the difference:\n",
    "\n",
    "- `set.remove` will raise a `KeyError` if the given item does not exist in the set.\n",
    "- `set.discard` will not raise an error, so it's good to use if you don't care if it exists or not"
   ]
  },
  {
   "cell_type": "code",
   "execution_count": 5,
   "id": "1aad536a",
   "metadata": {},
   "outputs": [],
   "source": [
    "def remove_beacons(points, sensors_and_beacons):\n",
    "    for _, beacon in sensors_and_beacons:\n",
    "        points.discard(beacon)\n",
    "    return points"
   ]
  },
  {
   "cell_type": "markdown",
   "id": "3817e534",
   "metadata": {},
   "source": [
    "For the actual solution, I loop over all sensors and beacons from the input and if it overlaps the desired line, we find all the points. Then we remove all the beacons and final result is the length of the set."
   ]
  },
  {
   "cell_type": "code",
   "execution_count": 118,
   "id": "31a15723",
   "metadata": {
    "scrolled": true
   },
   "outputs": [],
   "source": [
    "def solve(sensors_and_beacons, target):\n",
    "    points = set()\n",
    "    for sensor, beacon in sensors_and_beacons:\n",
    "        dist = distance(sensor, beacon)\n",
    "        if overlaps(sensor, beacon, target):\n",
    "            points = points | points_on_line(sensor, dist, target)\n",
    "    \n",
    "    return remove_beacons(points, sensors_and_beacons)"
   ]
  },
  {
   "cell_type": "code",
   "execution_count": 117,
   "id": "bb70b6e7",
   "metadata": {},
   "outputs": [
    {
     "name": "stdout",
     "output_type": "stream",
     "text": [
      "Part 1: 5240818\n"
     ]
    }
   ],
   "source": [
    "charted = solve(data, 2000000)\n",
    "print(f'Part 1: {len(charted)}')\n",
    "assert len(charted) == 5240818"
   ]
  },
  {
   "cell_type": "markdown",
   "id": "3ef6c86a",
   "metadata": {},
   "source": [
    "## Part 2\n",
    "\n",
    ">Your handheld device indicates that the distress signal is coming from a beacon nearby. The distress beacon is not detected by any sensor, but the distress beacon must have x and y coordinates each no lower than 0 and no larger than 4000000.\n",
    ">\n",
    ">To isolate the distress beacon's signal, you need to determine its tuning frequency, which can be found by multiplying its x coordinate by 4000000 and then adding its y coordinate.\n",
    ">\n",
    ">In the example above, the search space is smaller: instead, the x and y coordinates can each be at most 20. With this reduced search area, there is only a single position that could have a beacon: x=14, y=11. The tuning frequency for this distress beacon is 56000011.\n",
    ">\n",
    ">Find the only possible position for the distress beacon. What is its tuning frequency?"
   ]
  },
  {
   "cell_type": "markdown",
   "id": "7128a393",
   "metadata": {},
   "source": [
    "With 4M x 4M search space, it's clear my part 1 solution is waaaaay to slow. This one was a hard one to crack and even now, my solution takes a good few minutes to run. But for now, that's good enough!"
   ]
  },
  {
   "cell_type": "markdown",
   "id": "ce9b10b5",
   "metadata": {},
   "source": [
    "In part 1, I found all the points on a given line. This time, to save memory and time, I'm only interested in the edges. So `get_edges` will give me that for any given line.\n",
    "\n",
    "`find_gaps` then takes a list of those edges and finds if there's a missing piece.\n",
    "\n",
    "`get_line_edges` finds the edges of each sensor's reach (are you noticing that I'm looping over each sensor way too many times?) on a given line and find all the edges.\n",
    "\n",
    "To solve the puzzle, I loop over each line from 0 to 4M and if I find a gap, I return that gap. This implementation relies on the domain knowledge that there will only ever be on single gap in the grid."
   ]
  },
  {
   "cell_type": "code",
   "execution_count": 107,
   "id": "645b4b62",
   "metadata": {},
   "outputs": [],
   "source": [
    "from itertools import pairwise\n",
    "\n",
    "def get_edges(sensor, dist, y):\n",
    "    width = dist - abs(int(sensor.imag) - y)\n",
    "    \n",
    "    left = max(MIN_X, int(sensor.real) - width)\n",
    "    right = min(int(sensor.real) + width, MAX_X)\n",
    "    return (left, right)\n",
    "\n",
    "def find_gaps(edges):\n",
    "    edges = sorted(edges)\n",
    "    one = edges.pop(0)\n",
    "    while len(edges) > 0:\n",
    "        other = edges.pop(0)\n",
    "        if one[1] < other[0] - 1:\n",
    "            return one[1] + 1\n",
    "        else:\n",
    "            one = (min(one[0], other[0]), max(one[1], other[1]))\n",
    "    return None\n",
    "            \n",
    "\n",
    "def get_line_edges(sensors_and_beacons, line):\n",
    "    edges = []\n",
    "    for sensor, beacon in sensors_and_beacons:\n",
    "        dist = distance(sensor, beacon)\n",
    "        if overlaps(sensor, beacon, line):\n",
    "            edges.append(get_edges(sensor, dist, line))\n",
    "    return edges\n",
    "\n",
    "def solve2(sab):\n",
    "    for line in range(MIN_X, MAX_X):\n",
    "        gaps = find_gaps(get_line_edges(sab, line))\n",
    "        if gaps:\n",
    "            return gaps + line * 1j\n",
    "    raise Exception('No gaps found')"
   ]
  },
  {
   "cell_type": "code",
   "execution_count": 108,
   "id": "af57e961",
   "metadata": {},
   "outputs": [
    {
     "name": "stdout",
     "output_type": "stream",
     "text": [
      "Part 2: 13213086906101\n"
     ]
    }
   ],
   "source": [
    "MIN_X = 0\n",
    "MAX_X = 4000000\n",
    "\n",
    "gap = solve2(data)\n",
    "\n",
    "solution = int(gap.real * 4000000 + gap.imag)\n",
    "print(f'Part 2: {solution}')\n",
    "assert solution == 13213086906101"
   ]
  }
 ],
 "metadata": {
  "kernelspec": {
   "display_name": "Python 3 (ipykernel)",
   "language": "python",
   "name": "python3"
  },
  "language_info": {
   "codemirror_mode": {
    "name": "ipython",
    "version": 3
   },
   "file_extension": ".py",
   "mimetype": "text/x-python",
   "name": "python",
   "nbconvert_exporter": "python",
   "pygments_lexer": "ipython3",
   "version": "3.10.0"
  }
 },
 "nbformat": 4,
 "nbformat_minor": 5
}
