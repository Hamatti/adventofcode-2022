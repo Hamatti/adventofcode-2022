{
 "cells": [
  {
   "cell_type": "markdown",
   "id": "bc971373",
   "metadata": {},
   "source": [
    "# Day 3 - Rucksack Reorganization\n",
    "\n",
    ">One Elf has the important job of loading all of the rucksacks with supplies for the jungle journey. Unfortunately, that Elf didn't quite follow the packing instructions, and so a few items now need to be rearranged.\n",
    ">\n",
    ">Each rucksack has two large compartments. All items of a given type are meant to go into exactly one of the two compartments. The Elf that did the packing failed to follow this rule for exactly one item type per rucksack.\n",
    ">\n",
    ">The Elves have made a list of all of the items currently in each rucksack (your puzzle input), but they need your help finding the errors. Every item type is identified by a single lowercase or uppercase letter (that is, a and A refer to different types of items).\n",
    ">\n",
    ">The list of items for each rucksack is given as characters all on a single line. A given rucksack always has the same number of items in each of its two compartments, so the first half of the characters represent items in the first compartment, while the second half of the characters represent items in the second compartment.\n",
    ">\n",
    ">For example, suppose you have the following list of contents from six rucksacks:\n",
    ">```\n",
    ">vJrwpWtwJgWrhcsFMMfFFhFp\n",
    ">jqHRNqRjqzjGDLGLrsFMfFZSrLrFZsSL\n",
    ">PmmdzqPrVvPwwTWBwg\n",
    ">wMqvLMZHhHMvwLHjbvcjnnSBnvTQFn\n",
    ">ttgJtRGJQctTZtZT\n",
    ">CrZsJsPPZsGzwwsLwLmpwMDw\n",
    ">```\n",
    ">- The first rucksack contains the items vJrwpWtwJgWrhcsFMMfFFhFp, which means its first compartment contains the items vJrwpWtwJgWr, while the second compartment contains the items hcsFMMfFFhFp. The only item type that appears in both compartments is lowercase p.\n",
    ">- The second rucksack's compartments contain jqHRNqRjqzjGDLGL and rsFMfFZSrLrFZsSL. The only item type that appears in both compartments is uppercase L.\n",
    ">- The third rucksack's compartments contain PmmdzqPrV and vPwwTWBwg; the only common item type is uppercase P.\n",
    ">- The fourth rucksack's compartments only share item type v.\n",
    ">- The fifth rucksack's compartments only share item type t.\n",
    ">- The sixth rucksack's compartments only share item type s.\n",
    ">\n",
    ">To help prioritize item rearrangement, every item type can be converted to a priority:\n",
    ">\n",
    ">- Lowercase item types a through z have priorities 1 through 26.\n",
    ">- Uppercase item types A through Z have priorities 27 through 52.\n",
    ">\n",
    ">In the above example, the priority of the item type that appears in both compartments of each rucksack is 16 (p), 38 (L), 42 (P), 22 (v), 20 (t), and 19 (s); the sum of these is 157."
   ]
  },
  {
   "cell_type": "markdown",
   "id": "31c9bc55",
   "metadata": {},
   "source": [
    "## Read input\n",
    "\n",
    "Today, the data input is straight-forward: since each line is a string input, there's no need for any extra manipulation."
   ]
  },
  {
   "cell_type": "code",
   "execution_count": 50,
   "id": "0277b8a9",
   "metadata": {},
   "outputs": [],
   "source": [
    "from utils import read_input\n",
    "\n",
    "rucksacks = read_input(3)\n",
    "example = read_input(3, example=True)"
   ]
  },
  {
   "cell_type": "markdown",
   "id": "516fa566",
   "metadata": {},
   "source": [
    "## Part 1\n",
    "\n",
    "For the first part, we need to split each input line into two halves and find common item between those two parts.\n",
    "\n",
    "A great way to find common items in any collections is to convert them to [sets](https://docs.python.org/3/tutorial/datastructures.html#sets). A set is a data structure which keeps each item only once. It's very efficient in certain operations like checking if a value is part of a set and for taking a union (all values in two sets combined) or an intersection (shared values in two sets). The latter is exactly what we need today.\n",
    "\n",
    "To get an intersection of two sets in Python, there are two options: you can either do `a.intersect(b)` or `a & b`.\n",
    "\n",
    "We'll also need to be able to calculate the priority value for these items. The values are 1-26 for a-z and 27-52 for A-Z. That also happens to be their index + 1 in the `string.ascii_letters` string."
   ]
  },
  {
   "cell_type": "code",
   "execution_count": 52,
   "id": "b2b1db8a",
   "metadata": {},
   "outputs": [],
   "source": [
    "import string\n",
    "\n",
    "def calculate_priority(characters):\n",
    "    \"\"\"\n",
    "    > calculate_priority({'a'})\n",
    "    1\n",
    "    > calculate_priority({'a', 'A'})\n",
    "    28\n",
    "    > calculate_priority({})\n",
    "    0\n",
    "    \"\"\"\n",
    "    return sum(string.ascii_letters.index(char) + 1 for char in characters)"
   ]
  },
  {
   "cell_type": "markdown",
   "id": "71eb9cbf",
   "metadata": {},
   "source": [
    "> **Find the item type that appears in both compartments of each rucksack. What is the sum of the priorities of those item types?**"
   ]
  },
  {
   "cell_type": "code",
   "execution_count": 57,
   "id": "c424896e",
   "metadata": {},
   "outputs": [
    {
     "name": "stdout",
     "output_type": "stream",
     "text": [
      "Part 1: 7826\n"
     ]
    }
   ],
   "source": [
    "def calculate_total_priority(rucksacks):\n",
    "    priority = 0\n",
    "    for rucksack in rucksacks:\n",
    "        mid_point = len(rucksack) // 2\n",
    "        first, second = set(rucksack[:mid_point]), set(rucksack[mid_point:])\n",
    "        common = first & second\n",
    "        priority += calculate_priority(common)\n",
    "\n",
    "    return priority\n",
    "\n",
    "priority = calculate_total_priority(rucksacks)\n",
    "print(f'Part 1: {priority}')\n",
    "assert priority == 7826"
   ]
  },
  {
   "cell_type": "markdown",
   "id": "7f316caf",
   "metadata": {},
   "source": [
    "## Part 2\n",
    "\n",
    "> As you finish identifying the misplaced items, the Elves come to you with another issue.\n",
    ">\n",
    ">For safety, the Elves are divided into groups of three. Every Elf carries a badge that identifies their group. For efficiency, within each group of three Elves, the badge is the only item type carried by all three Elves. That is, if a group's badge is item type B, then all three Elves will have item type B somewhere in their rucksack, and at most two of the Elves will be carrying any other item type.\n",
    ">\n",
    ">The problem is that someone forgot to put this year's updated authenticity sticker on the badges. All of the badges need to be pulled out of the rucksacks so the new authenticity stickers can be attached.\n",
    ">\n",
    ">Additionally, nobody wrote down which item type corresponds to each group's badges. The only way to tell which item type is the right one is by finding the one item type that is common between all three Elves in each group.\n",
    ">\n",
    ">Every set of three lines in your list corresponds to a single group, but each group can have a different badge item type. So, in the above example, the first group's rucksacks are the first three lines:\n",
    ">```\n",
    ">vJrwpWtwJgWrhcsFMMfFFhFp\n",
    ">jqHRNqRjqzjGDLGLrsFMfFZSrLrFZsSL\n",
    ">PmmdzqPrVvPwwTWBwg\n",
    ">```\n",
    ">\n",
    ">And the second group's rucksacks are the next three lines:\n",
    ">\n",
    ">```\n",
    ">wMqvLMZHhHMvwLHjbvcjnnSBnvTQFn\n",
    ">ttgJtRGJQctTZtZT\n",
    ">CrZsJsPPZsGzwwsLwLmpwMDw\n",
    ">```\n",
    ">\n",
    ">In the first group, the only item type that appears in all three rucksacks is lowercase r; this must be their badges. In the second group, their badge item type must be Z.\n",
    ">\n",
    ">Priorities for these items must still be found to organize the sticker attachment efforts: here, they are 18 (r) for the first group and 52 (Z) for the second group. The sum of these is 70."
   ]
  },
  {
   "cell_type": "markdown",
   "id": "0e83abff",
   "metadata": {},
   "source": [
    "I spent way too much time on building the wrong thing today. I somehow missed that the groups were already in the input (each 3 consecutive lines == group) and I built functions that found all the possible groups in the input, only to find too many of them.\n",
    "\n",
    "Once I figured what the puzzle wanted, the code become quite a lot cleaner.\n",
    "\n",
    "For each group of 3 racksacks, we find the common unique item and get its priority and then add them all together."
   ]
  },
  {
   "cell_type": "code",
   "execution_count": 58,
   "id": "44a89727",
   "metadata": {},
   "outputs": [
    {
     "name": "stdout",
     "output_type": "stream",
     "text": [
      "Part 2: 2577\n"
     ]
    }
   ],
   "source": [
    "def unique_among_group(group):\n",
    "    return set(group[0]) & set(group[1]) & set(group[2])\n",
    "    \n",
    "priority = 0\n",
    "for idx in range(0, len(rucksacks), 3):\n",
    "    badge = unique_among_group(rucksacks[idx:idx+3])\n",
    "    priority += calculate_priority(badge)\n",
    "    \n",
    "print(f'Part 2: {priority}')\n",
    "assert priority == 2577"
   ]
  },
  {
   "cell_type": "markdown",
   "id": "6096f7f0",
   "metadata": {},
   "source": [
    "## Doctest runner\n",
    "\n",
    "I'll keep the doctest runners at the bottom of the file for future. I originally had way more doctests in this solution until I learned that I had done wrong (and way too much) work in the second part."
   ]
  },
  {
   "cell_type": "code",
   "execution_count": 60,
   "id": "310512e1",
   "metadata": {},
   "outputs": [
    {
     "data": {
      "text/plain": [
       "TestResults(failed=0, attempted=4)"
      ]
     },
     "execution_count": 60,
     "metadata": {},
     "output_type": "execute_result"
    }
   ],
   "source": [
    "import doctest\n",
    "\n",
    "doctest.testmod()"
   ]
  }
 ],
 "metadata": {
  "kernelspec": {
   "display_name": "Python 3 (ipykernel)",
   "language": "python",
   "name": "python3"
  },
  "language_info": {
   "codemirror_mode": {
    "name": "ipython",
    "version": 3
   },
   "file_extension": ".py",
   "mimetype": "text/x-python",
   "name": "python",
   "nbconvert_exporter": "python",
   "pygments_lexer": "ipython3",
   "version": "3.10.0"
  }
 },
 "nbformat": 4,
 "nbformat_minor": 5
}
