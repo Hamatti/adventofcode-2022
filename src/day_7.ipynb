{
 "cells": [
  {
   "cell_type": "markdown",
   "id": "24ffa18c",
   "metadata": {},
   "source": [
    "# Day 7\n",
    "\n",
    "Another conference day, so explanations will come later."
   ]
  },
  {
   "cell_type": "code",
   "execution_count": 81,
   "id": "ccdb3ef0",
   "metadata": {},
   "outputs": [],
   "source": [
    "from utils import read_input\n",
    "from collections import namedtuple\n",
    "\n",
    "Command = namedtuple('Command', ['command', 'target'], defaults=(None, None))\n",
    "Directory = namedtuple('Directory', ['name'])\n",
    "File = namedtuple('File', ['name', 'size'])\n",
    "\n",
    "def transformer(line):\n",
    "    if line.startswith('$'):\n",
    "        prompt = line.split(' ')\n",
    "        if len(prompt) == 2:\n",
    "            return Command(command=prompt[1])\n",
    "        elif len(prompt) == 3:\n",
    "            return Command(command=prompt[1], target=prompt[2])\n",
    "    elif line[0].isnumeric():\n",
    "        size, name = line.split(' ')\n",
    "        return File(name, int(size))\n",
    "    elif line.startswith('dir'):\n",
    "        _, name = line.split(' ')\n",
    "        return Directory(name)\n",
    "    else:\n",
    "        raise Exception('Unknown line')\n",
    "        \n",
    "listings = read_input(7, transformer)\n",
    "examples = read_input(7, transformer, True)\n",
    "\n",
    "class FileObj:\n",
    "    \n",
    "    def __init__(self, name, size, is_dir):\n",
    "        self.name = name\n",
    "        self.is_dir = is_dir\n",
    "        self.size = size\n",
    "        self.children = []\n",
    "        \n",
    "    def add_child(self, child):\n",
    "        self.children.append(child)\n",
    "        \n",
    "    def calculate_size(self):\n",
    "        s = self.size\n",
    "        for child in self.children:\n",
    "            s += child.calculate_size()\n",
    "        return s\n",
    "    \n",
    "    def __repr__(self):\n",
    "        if self.is_dir:\n",
    "            return f'<Dir name=\"{f\"/{self.name}\"}\" children={self.children} size={self.calculate_size()}>'\n",
    "        else:\n",
    "            return f'<File name=\"{self.name}\" size={self.size}>'\n",
    "\n",
    "def process(listings):\n",
    "    filesystem = {'/': FileObj('/', 0, True)}\n",
    "    pwd = []\n",
    "    for listing in listings:\n",
    "        obj = None\n",
    "        match listing:\n",
    "            case Directory(name):\n",
    "                obj = FileObj(name, 0, True)\n",
    "                path = '/'.join(pwd + [name]).replace('//', '/')\n",
    "                filesystem[path] = obj\n",
    "                parent = filesystem['/'.join(pwd).replace('//', '/')]\n",
    "                parent.add_child(obj)\n",
    "            case File(name=name, size=size):\n",
    "                obj = FileObj(name, size, False)\n",
    "                path = '/'.join(pwd).replace('//', '/')\n",
    "                parent = filesystem[path]\n",
    "                parent.add_child(obj)\n",
    "            case Command('ls', None):\n",
    "                continue\n",
    "            case Command('cd', '..'):\n",
    "                pwd.pop()\n",
    "            case Command('cd', None):\n",
    "                pwd = ['/']\n",
    "            case Command('cd', directory):\n",
    "                pwd.append(directory)\n",
    "    return filesystem"
   ]
  },
  {
   "cell_type": "code",
   "execution_count": 80,
   "id": "88ef5931",
   "metadata": {},
   "outputs": [
    {
     "name": "stdout",
     "output_type": "stream",
     "text": [
      "Part 1: 1350966\n"
     ]
    }
   ],
   "source": [
    "MAX_SIZE = 100000\n",
    "filesystem = process(listings.copy())\n",
    "\n",
    "dirs = [f for f in filesystem.values() if f.is_dir]\n",
    "small_dirs = [d for d in dirs if d.calculate_size() <= MAX_SIZE]\n",
    "\n",
    "solution_1 = sum(d.calculate_size() for d in small_dirs)\n",
    "print(f'Part 1: {solution_1}')\n",
    "assert solution_1 == 1350966"
   ]
  },
  {
   "cell_type": "markdown",
   "id": "b9f07836",
   "metadata": {},
   "source": [
    "## Part 2"
   ]
  },
  {
   "cell_type": "code",
   "execution_count": 95,
   "id": "6b1333f9",
   "metadata": {},
   "outputs": [
    {
     "name": "stdout",
     "output_type": "stream",
     "text": [
      "Part 2: 6296435\n"
     ]
    }
   ],
   "source": [
    "TOTAL_DISK_SPACE = 70000000\n",
    "AVAILABLE_NEEDED = 30000000\n",
    "\n",
    "filesystem = process(listings.copy())\n",
    "\n",
    "current_space = filesystem['/'].calculate_size()\n",
    "space_needed = AVAILABLE_NEEDED - (TOTAL_DISK_SPACE - current_space)\n",
    "\n",
    "solution_2 = min(\n",
    "    (d.calculate_size() \n",
    "     for d \n",
    "     in filesystem.values() \n",
    "     if d.is_dir and d.calculate_size() >= space_needed\n",
    "    )\n",
    ")\n",
    "\n",
    "print(f'Part 2: {solution_2}')\n",
    "assert solution_2 == 6296435"
   ]
  }
 ],
 "metadata": {
  "kernelspec": {
   "display_name": "Python 3 (ipykernel)",
   "language": "python",
   "name": "python3"
  },
  "language_info": {
   "codemirror_mode": {
    "name": "ipython",
    "version": 3
   },
   "file_extension": ".py",
   "mimetype": "text/x-python",
   "name": "python",
   "nbconvert_exporter": "python",
   "pygments_lexer": "ipython3",
   "version": "3.10.0"
  }
 },
 "nbformat": 4,
 "nbformat_minor": 5
}
