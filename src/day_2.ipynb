{
 "cells": [
  {
   "cell_type": "markdown",
   "id": "4177cfde",
   "metadata": {},
   "source": [
    "## Day 2 - Rock Paper Scissors\n",
    "\n",
    ">The Elves begin to set up camp on the beach. To decide whose tent gets to be closest to the snack storage, a giant Rock Paper Scissors tournament is already in progress.\n",
    ">\n",
    ">Rock Paper Scissors is a game between two players. Each game contains many rounds; in each round, the players each simultaneously choose one of Rock, Paper, or Scissors using a hand shape. Then, a winner for that round is selected: Rock defeats Scissors, Scissors defeats Paper, and Paper defeats Rock. If both players choose the same shape, the round instead ends in a draw.\n",
    ">\n",
    ">Appreciative of your help yesterday, one Elf gives you an encrypted strategy guide (your puzzle input) that they say will be sure to help you win. \"The first column is what your opponent is going to play: A for Rock, B for Paper, and C for Scissors. The second column--\" Suddenly, the Elf is called away to help with someone's tent.\n",
    ">\n",
    ">The second column, you reason, must be what you should play in response: X for Rock, Y for Paper, and Z for Scissors. Winning every time would be suspicious, so the responses must have been carefully chosen.\n",
    ">\n",
    ">The winner of the whole tournament is the player with the highest score. Your total score is the sum of your scores for each round. The score for a single round is the score for the shape you selected (1 for Rock, 2 for Paper, and 3 for Scissors) plus the score for the outcome of the round (0 if you lost, 3 if the round was a draw, and 6 if you won).\n",
    ">\n",
    ">Since you can't be sure if the Elf is trying to help you or trick you, you should calculate the score you would get if you were to follow the strategy guide.\n",
    ">\n",
    ">For example, suppose you were given the following strategy guide:\n",
    ">```\n",
    ">A Y\n",
    ">B X\n",
    ">C Z\n",
    ">```\n",
    ">This strategy guide predicts and recommends the following:\n",
    ">\n",
    ">- In the first round, your opponent will choose Rock (A), and you should choose Paper (Y). This ends in a win for you with a score of 8 (2 because you chose Paper + 6 because you won).\n",
    ">- In the second round, your opponent will choose Paper (B), and you should choose Rock (X). This ends in a loss for you with a score of 1 (1 + 0).\n",
    ">- The third round is a draw with both players choosing Scissors, giving you a score of 3 + 3 = 6.\n",
    ">\n",
    ">In this example, if you were to follow the strategy guide, you would get a total score of 15 (8 + 1 + 6)."
   ]
  },
  {
   "cell_type": "markdown",
   "id": "d16fe171",
   "metadata": {},
   "source": [
    "## Read input\n",
    "\n",
    "For reading input today, I'll start by defining some data structures.\n",
    "\n",
    "First one will be `RPSScore` (short for Rock-Paper-Scissors Score) which is an `IntEnum`. [Enums](https://docs.python.org/3/library/enum.html) are great when you want to give descriptive names to individual values and by using subclass `IntEnum`, we can do maths with the results directly with the enums.\n",
    "\n",
    "Here I decided to give each Enum member the value that is its score in the final calculation. That way, when calculating the score, I can calculate win/draw/loss score + the enum member and get the final score.\n",
    "\n",
    "Second data structure is another `IntEnum`, this time for the score for match output. Loss gains the player 0, draw 3 and win 6 points.\n",
    "\n",
    "Third data structure is `input_to_RPS` which maps each input (A, B, C, X, Y, Z) to its corresponding Enum member."
   ]
  },
  {
   "cell_type": "code",
   "execution_count": 50,
   "id": "31e5287b",
   "metadata": {},
   "outputs": [],
   "source": [
    "from enum import IntEnum\n",
    "\n",
    "from utils import read_input\n",
    "\n",
    "\n",
    "class RPSScore(IntEnum):\n",
    "    ROCK = 1\n",
    "    PAPER = 2\n",
    "    SCISSORS = 3\n",
    "    \n",
    "class MatchScore(IntEnum):\n",
    "    LOSS = 0\n",
    "    DRAW = 3\n",
    "    WIN = 6\n",
    "    \n",
    "input_to_RPS = {\n",
    "    \"A\": RPSScore.ROCK,\n",
    "    \"B\": RPSScore.PAPER,\n",
    "    \"C\": RPSScore.SCISSORS,\n",
    "    \"X\": RPSScore.ROCK,\n",
    "    \"Y\": RPSScore.PAPER,\n",
    "    \"Z\": RPSScore.SCISSORS\n",
    "}\n",
    "\n",
    "def transformer(line):\n",
    "    opponent, player = line.split(' ')\n",
    "    return [input_to_RPS[player], input_to_RPS[opponent]]\n",
    "\n",
    "example_strategy = read_input(2, transformer, True)\n",
    "strategy = read_input(2, transformer)"
   ]
  },
  {
   "cell_type": "markdown",
   "id": "dfd564e4",
   "metadata": {},
   "source": [
    "## Calculating the score\n",
    "\n",
    "Last summer I wrote [a blog post about writing unit tests in Jupyter Notebooks](https://hamatti.org/posts/unit-test-your-python-code-in-jupyter-notebooks/) so when I was building this scoring function, I wanted to make sure I calculated all the cases correctly and decided to use [doctest](https://docs.python.org/3/library/doctest.html).\n",
    "\n",
    "In my blog post, I said that doctest is good for simple functions but gets out of hand real fast. I think this is a perfect example of that. With just 9 different cases, the docstring becomes 20 lines long and not that easy to read and follow. But it works and having tests made me not run into harder-to-debug issues down the line.\n",
    "\n",
    "The scoring uses [Python's pattern matching, available in Python since 3.10](https://hamatti.org/posts/pattern-matching-is-coming-to-python/) and a few nice features of it:\n",
    "\n",
    "1. For the first clause, it uses a guard in the form of a if statement that matches to any two inputs as long as they are the same.\n",
    "2. For the second clause, it uses the \"or\" functionality, matching to any of the cases where player wins\n",
    "3. It uses the default case for anything else\n",
    "\n",
    "And a nice benefit of defining our scores in enums earlier, we don't see a single number in this function. That means we don't need to know the exact values in this function, leading to less errors if they would change in the future for example.\n",
    "\n",
    "In this case, as this function is the only one today that has doctests, I'm running the test suite immediately in the same code block but it's important to note that it will run all the doctests in the file/notebook so sometimes it makes sense to run as its own block or at the end of the file."
   ]
  },
  {
   "cell_type": "code",
   "execution_count": 60,
   "id": "94dd6db0",
   "metadata": {},
   "outputs": [
    {
     "data": {
      "text/plain": [
       "TestResults(failed=0, attempted=9)"
      ]
     },
     "execution_count": 60,
     "metadata": {},
     "output_type": "execute_result"
    }
   ],
   "source": [
    "def score_round(player, opponent):\n",
    "    \"\"\"\n",
    "    >>> score_round(RPSScore.ROCK, RPSScore.ROCK)\n",
    "    4\n",
    "    >>> score_round(RPSScore.PAPER, RPSScore.PAPER)\n",
    "    5\n",
    "    >>> score_round(RPSScore.SCISSORS, RPSScore.SCISSORS)\n",
    "    6\n",
    "    >>> score_round(RPSScore.ROCK, RPSScore.PAPER)\n",
    "    1\n",
    "    >>> score_round(RPSScore.ROCK, RPSScore.SCISSORS)\n",
    "    7\n",
    "    >>> score_round(RPSScore.PAPER, RPSScore.ROCK)\n",
    "    8\n",
    "    >>> score_round(RPSScore.PAPER, RPSScore.SCISSORS)\n",
    "    2\n",
    "    >>> score_round(RPSScore.SCISSORS, RPSScore.ROCK)\n",
    "    3\n",
    "    >>> score_round(RPSScore.SCISSORS, RPSScore.PAPER)\n",
    "    9\n",
    "    \"\"\"\n",
    "    match [player, opponent]:\n",
    "        case [player, opponent] if player == opponent:\n",
    "            return MatchScore.DRAW + player\n",
    "        case ([RPSScore.ROCK, RPSScore.SCISSORS] |\n",
    "              [RPSScore.PAPER, RPSScore.ROCK] | \n",
    "              [RPSScore.SCISSORS, RPSScore.PAPER]):\n",
    "            return MatchScore.WIN + player\n",
    "        case _:\n",
    "            return MatchScore.LOSS + player\n",
    "        \n",
    "import doctest\n",
    "\n",
    "doctest.testmod()"
   ]
  },
  {
   "cell_type": "markdown",
   "id": "8d36e31a",
   "metadata": {},
   "source": [
    "## Part 1\n",
    "\n",
    "> **What would your total score be if everything goes exactly according to your strategy guide?**\n",
    "\n",
    "To calculate the total score, we run all the plays from the strategy and pass them to `score_round` using the `*` operator that unpacks the elements of an iterator, in this case a list of two, into separate arguments for the function."
   ]
  },
  {
   "cell_type": "code",
   "execution_count": 46,
   "id": "f1b28547",
   "metadata": {
    "scrolled": false
   },
   "outputs": [
    {
     "name": "stdout",
     "output_type": "stream",
     "text": [
      "Part 1: 12740\n"
     ]
    }
   ],
   "source": [
    "score = sum(score_round(*plays) for plays in strategy)\n",
    "print(f'Part 1: {score}')\n",
    "assert score == 12740"
   ]
  },
  {
   "cell_type": "markdown",
   "id": "053d54ef",
   "metadata": {},
   "source": [
    "## Part 2\n",
    "\n",
    "I think this might be the first time in my Advent of Code solving era where the second part actually changes the input reading instead of just the solution.\n",
    "\n",
    "Now, instead of parsing two plays, we get a play and a result and using the previous enums and scoring function, need to add a bit to figure out the right play.\n",
    "\n",
    "`playresult_to_choice` is a horrible variable name but I'll live with it."
   ]
  },
  {
   "cell_type": "code",
   "execution_count": 58,
   "id": "6ba37676",
   "metadata": {},
   "outputs": [],
   "source": [
    "playresult_to_choice = {\n",
    "    ('A', 'X'): RPSScore.SCISSORS,\n",
    "    ('A', 'Y'): RPSScore.ROCK,\n",
    "    ('A', 'Z'): RPSScore.PAPER,\n",
    "    \n",
    "    ('B', 'X'): RPSScore.ROCK,\n",
    "    ('B', 'Y'): RPSScore.PAPER,\n",
    "    ('B', 'Z'): RPSScore.SCISSORS,\n",
    "    \n",
    "    ('C', 'X'): RPSScore.PAPER,\n",
    "    ('C', 'Y'): RPSScore.SCISSORS,\n",
    "    ('C', 'Z'): RPSScore.ROCK\n",
    "}\n",
    "\n",
    "def part2_transformer(line):\n",
    "    opponent, result = line.split(' ')\n",
    "    player = playresult_to_choice[opponent, result]\n",
    "    return player, input_to_RPS[opponent]\n",
    "    \n",
    "\n",
    "part2_example_strategy = read_input(2, part2_transformer, True)\n",
    "part2_strategy = read_input(2, part2_transformer)"
   ]
  },
  {
   "cell_type": "markdown",
   "id": "195a0d85",
   "metadata": {},
   "source": [
    "The actual scoring calculation is exactly the same as in part 1 as the only change needed to be made was into how we parse the strategy guide."
   ]
  },
  {
   "cell_type": "code",
   "execution_count": 59,
   "id": "a1bdc4d1",
   "metadata": {},
   "outputs": [
    {
     "name": "stdout",
     "output_type": "stream",
     "text": [
      "Part 2: 11980\n"
     ]
    }
   ],
   "source": [
    "part2_score = sum(score_round(*plays) for plays in part2_strategy)\n",
    "print(f'Part 2: {part2_score}')\n",
    "assert part2_score == 11980"
   ]
  }
 ],
 "metadata": {
  "kernelspec": {
   "display_name": "Python 3 (ipykernel)",
   "language": "python",
   "name": "python3"
  },
  "language_info": {
   "codemirror_mode": {
    "name": "ipython",
    "version": 3
   },
   "file_extension": ".py",
   "mimetype": "text/x-python",
   "name": "python",
   "nbconvert_exporter": "python",
   "pygments_lexer": "ipython3",
   "version": "3.10.0"
  }
 },
 "nbformat": 4,
 "nbformat_minor": 5
}
