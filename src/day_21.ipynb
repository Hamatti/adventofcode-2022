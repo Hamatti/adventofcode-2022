{
 "cells": [
  {
   "cell_type": "markdown",
   "id": "97d3bbbd",
   "metadata": {},
   "source": [
    "# Day 21"
   ]
  },
  {
   "cell_type": "markdown",
   "id": "366aca43",
   "metadata": {},
   "source": [
    "## Read input"
   ]
  },
  {
   "cell_type": "code",
   "execution_count": 19,
   "id": "dcb20ac3",
   "metadata": {},
   "outputs": [],
   "source": [
    "class Node:\n",
    "    \n",
    "    def __init__(self, name):\n",
    "        self.name = name\n",
    "        self.value = None\n",
    "        self.left = None\n",
    "        self.right = None\n",
    "        self.operation = None\n",
    "        \n",
    "    def add_value(self, value):\n",
    "        self.value = value\n",
    "        \n",
    "    def add_left(self, node):\n",
    "        self.left = node\n",
    "    \n",
    "    def add_right(self, node):\n",
    "        self.right = node\n",
    "        \n",
    "    def add_operation(self, operation):\n",
    "        self.operation = operation      \n",
    "        \n",
    "    def __repr__(self):\n",
    "        if self.value:\n",
    "            return f'<{self.name}: {self.value}>'\n",
    "        elif self.left and self.right:\n",
    "            return f'<{self.name}: {self.left.name} {self.operation} {self.right.name}>'\n",
    "        else:\n",
    "            return f'<{self.name}: [empty]>'"
   ]
  },
  {
   "cell_type": "code",
   "execution_count": 96,
   "id": "647aac7e",
   "metadata": {},
   "outputs": [],
   "source": [
    "from utils import read_input\n",
    "import re\n",
    "\n",
    "def transformer(line):\n",
    "    name, operation = line.split(': ')\n",
    "    try:\n",
    "        operation = int(operation)\n",
    "    except ValueError:\n",
    "        operation = re.split(r' (\\+|-|\\/|\\*) ', operation)\n",
    "    \n",
    "    return name, operation\n",
    "\n",
    "data = read_input(21, transformer)\n",
    "temp = {}\n",
    "for node in data:\n",
    "    temp[node[0]] = node[1]\n",
    "\n",
    "tree = {}\n",
    "unfound = []\n",
    "while True:\n",
    "    try:\n",
    "        name, op = temp.popitem()\n",
    "    except KeyError:\n",
    "        if unfound:\n",
    "            for name, op in unfound:\n",
    "                temp[name] = op\n",
    "            unfound = []\n",
    "            continue\n",
    "        else:\n",
    "            break\n",
    "    if isinstance(op, int):\n",
    "        node = Node(name)\n",
    "        node.value = op\n",
    "        tree[node.name] = node\n",
    "        continue\n",
    "    else:\n",
    "        left, oper, right = op\n",
    "        if left in tree and right in tree:\n",
    "            node = Node(name)\n",
    "            node.left = tree[left]\n",
    "            node.right = tree[right]\n",
    "            node.operation = oper\n",
    "            tree[node.name] = node\n",
    "        else:\n",
    "            unfound.append((name, op))"
   ]
  },
  {
   "cell_type": "code",
   "execution_count": 54,
   "id": "4148d816",
   "metadata": {},
   "outputs": [],
   "source": [
    "def calculate(node):\n",
    "    if node.value:\n",
    "        return node.value\n",
    "    \n",
    "    match node.operation:\n",
    "        case '+':\n",
    "            return calculate(node.left) + calculate(node.right)\n",
    "        case '-':\n",
    "            return calculate(node.left) - calculate(node.right)\n",
    "        case '/':\n",
    "            return calculate(node.left) // calculate(node.right)\n",
    "        case '*':\n",
    "            return calculate(node.left) * calculate(node.right)"
   ]
  },
  {
   "cell_type": "markdown",
   "id": "680e7802",
   "metadata": {},
   "source": [
    "## Part 1"
   ]
  },
  {
   "cell_type": "code",
   "execution_count": 56,
   "id": "5366ab6a",
   "metadata": {},
   "outputs": [
    {
     "name": "stdout",
     "output_type": "stream",
     "text": [
      "Part 1: 31017034894002\n"
     ]
    }
   ],
   "source": [
    "result = calculate(tree['root'])\n",
    "print(f'Part 1: {result}')\n",
    "assert result == 31017034894002"
   ]
  },
  {
   "cell_type": "markdown",
   "id": "609218c8",
   "metadata": {},
   "source": [
    "## Part 2"
   ]
  },
  {
   "cell_type": "code",
   "execution_count": 99,
   "id": "6a5fa603",
   "metadata": {},
   "outputs": [],
   "source": [
    "def is_child(root):\n",
    "    if root.name == 'humn':\n",
    "        return True\n",
    "    if root.value is not None:\n",
    "        return False\n",
    "    return is_child(root.left) or is_child(root.right)\n",
    "    \n",
    "\n",
    "def correct(node, target):\n",
    "    if is_child(node.left):\n",
    "        value = calculate(node.right)\n",
    "        match node.operation:\n",
    "            case '+':\n",
    "                new_target = abs(target - value)\n",
    "            case '-':\n",
    "                new_target = target + value\n",
    "            case '/':\n",
    "                new_target = target * value\n",
    "            case '*':\n",
    "                new_target = target // value\n",
    "        new_path = node.left\n",
    "        if node.left.name == 'humn':\n",
    "            return new_target\n",
    "        else:\n",
    "            return correct(new_path, new_target)\n",
    "    else:\n",
    "        value = calculate(node.left)\n",
    "        match node.operation:\n",
    "            case '+':\n",
    "                new_target = abs(value - target)\n",
    "            case '-':\n",
    "                new_target = value - target\n",
    "            case '/':\n",
    "                new_target = value // target\n",
    "            case '*':\n",
    "                new_target = target // value\n",
    "        new_path = node.right\n",
    "        if node.right.name == 'humn':\n",
    "            return new_target\n",
    "        else:\n",
    "            return correct(new_path, new_target)\n",
    "\n",
    "def solve2(root):\n",
    "    if is_child(root.left):\n",
    "        return correct(root.left, calculate(root.right))\n",
    "    else:\n",
    "        return correct(root.right, calculate(root.left))"
   ]
  },
  {
   "cell_type": "code",
   "execution_count": 100,
   "id": "234c0272",
   "metadata": {},
   "outputs": [
    {
     "name": "stdout",
     "output_type": "stream",
     "text": [
      "Part 2: 3555057453229\n"
     ]
    }
   ],
   "source": [
    "part2 = solve2(tree['root'])\n",
    "print(f'Part 2: {part2}')\n",
    "assert part2 == 3555057453229"
   ]
  }
 ],
 "metadata": {
  "kernelspec": {
   "display_name": "Python 3 (ipykernel)",
   "language": "python",
   "name": "python3"
  },
  "language_info": {
   "codemirror_mode": {
    "name": "ipython",
    "version": 3
   },
   "file_extension": ".py",
   "mimetype": "text/x-python",
   "name": "python",
   "nbconvert_exporter": "python",
   "pygments_lexer": "ipython3",
   "version": "3.10.0"
  }
 },
 "nbformat": 4,
 "nbformat_minor": 5
}
