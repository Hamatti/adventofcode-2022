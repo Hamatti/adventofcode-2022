{
 "cells": [
  {
   "cell_type": "markdown",
   "id": "97d3bbbd",
   "metadata": {},
   "source": [
    "# Day 21 - Monkey Math\n",
    "\n",
    ">The monkeys are back! You're worried they're going to try to steal your stuff again, but it seems like they're just holding their ground and making various monkey noises at you.\n",
    ">\n",
    ">Eventually, one of the elephants realizes you don't speak monkey and comes over to interpret. As it turns out, they overheard you talking about trying to find the grove; they can show you a shortcut if you answer their riddle.\n",
    ">\n",
    ">Each monkey is given a job: either to yell a specific number or to yell the result of a math operation. All of the number-yelling monkeys know their number from the start; however, the math operation monkeys need to wait for two other monkeys to yell a number, and those two other monkeys might also be waiting on other monkeys.\n",
    ">\n",
    ">Your job is to work out the number the monkey named root will yell before the monkeys figure it out themselves.\n",
    ">\n",
    ">For example:\n",
    ">```\n",
    ">root: pppw + sjmn\n",
    ">dbpl: 5\n",
    ">cczh: sllz + lgvd\n",
    ">zczc: 2\n",
    ">ptdq: humn - dvpt\n",
    ">dvpt: 3\n",
    ">lfqf: 4\n",
    ">humn: 5\n",
    ">ljgn: 2\n",
    ">sjmn: drzm * dbpl\n",
    ">sllz: 4\n",
    ">pppw: cczh / lfqf\n",
    ">lgvd: ljgn * ptdq\n",
    ">drzm: hmdt - zczc\n",
    ">hmdt: 32\n",
    ">```\n",
    ">Each line contains the name of a monkey, a colon, and then the job of that monkey:\n",
    ">\n",
    ">- A lone number means the monkey's job is simply to yell that number.\n",
    ">- A job like `aaaa` + `bbbb` means the monkey waits for monkeys `aaaa` and `bbbb` to yell each of their numbers; the monkey then yells the sum of those two numbers.\n",
    ">- `aaaa` - `bbbb` means the monkey yells `aaaa`'s number minus `bbbb`'s number.\n",
    ">- Job `aaaa` * `bbbb` will yell `aaaa`'s number multiplied by `bbbb`'s number.\n",
    ">- Job `aaaa` / `bbbb` will yell `aaaa`'s number divided by `bbbb`'s number.\n",
    ">\n",
    ">So, in the above example, monkey `drzm` has to wait for monkeys `hmdt` and `zczc` to yell their numbers. Fortunately, both `hmdt` and `zczc` have jobs that involve simply yelling a single number, so they do this immediately: 32 and 2. Monkey `drzm` can then yell its number by finding 32 minus 2: 30.\n",
    ">\n",
    ">Then, monkey `sjmn` has one of its numbers (30, from monkey `drzm`), and already has its other number, 5, from `dbpl`. This allows it to yell its own number by finding 30 multiplied by 5: 150.\n",
    ">\n",
    ">This process continues until root yells a number: 152.\n",
    ">\n",
    ">However, your actual situation involves considerably more monkeys. "
   ]
  },
  {
   "cell_type": "markdown",
   "id": "7aca353e",
   "metadata": {},
   "source": [
    "I'll admit: I was surprised to find myself thinking \"nice, a simple binary tree\" and feeling like I knew what I need to do. And I did, this was a rather straight-forward puzzle for me. That is surprising given how bad I am with trees and recursion. Advent of Code has been teaching me!"
   ]
  },
  {
   "cell_type": "markdown",
   "id": "81eeffa7",
   "metadata": {},
   "source": [
    "## Modeling\n",
    "\n",
    "I start with modeling our node.\n",
    "\n",
    "The node either has a `value` of its own (if it's a leaf of the tree) or it has a `left`, `right` and `operation` (if it's a non-leaf node)."
   ]
  },
  {
   "cell_type": "code",
   "execution_count": 1,
   "id": "dcb20ac3",
   "metadata": {},
   "outputs": [],
   "source": [
    "class Node:\n",
    "    \n",
    "    def __init__(self, name):\n",
    "        self.name = name\n",
    "        self.value = None\n",
    "        self.left = None\n",
    "        self.right = None\n",
    "        self.operation = None\n",
    "        \n",
    "    def __repr__(self):\n",
    "        if self.value:\n",
    "            return f'<{self.name}: {self.value}>'\n",
    "        elif self.left and self.right:\n",
    "            return f'<{self.name}: {self.left.name} {self.operation} {self.right.name}>'\n",
    "        else:\n",
    "            return f'<{self.name}: [empty]>'"
   ]
  },
  {
   "cell_type": "markdown",
   "id": "08b396fb",
   "metadata": {},
   "source": [
    "## Read input\n",
    "\n",
    "I'm still not quite sure how to effectively build a tree when the inputs are not in order. My approach is to read the original values into a dictionary and then loop over that, creating nodes that can be created until all the nodes have been added to a tree.\n",
    "\n",
    "First, with `transformer` and `utils.read_input`, I transform the original input into a list of node data.\n",
    "\n",
    "Then, with `create_tree`, I use a temporary dictionary to create and attach nodes to each other and return the root node."
   ]
  },
  {
   "cell_type": "code",
   "execution_count": 2,
   "id": "647aac7e",
   "metadata": {},
   "outputs": [],
   "source": [
    "from utils import read_input\n",
    "import re\n",
    "\n",
    "def transformer(line):\n",
    "    name, operation = line.split(': ')\n",
    "    try:\n",
    "        operation = int(operation)\n",
    "    except ValueError:\n",
    "        operation = re.split(r' (\\+|-|\\/|\\*) ', operation)\n",
    "    \n",
    "    return name, operation\n",
    "\n",
    "data = read_input(21, transformer)\n",
    "temp = {}\n",
    "for node in data:\n",
    "    temp[node[0]] = node[1]\n",
    "\n",
    "def create_tree(temp):\n",
    "    tree = {}\n",
    "    unfound = []\n",
    "    while True:\n",
    "        try:\n",
    "            name, op = temp.popitem()\n",
    "        except KeyError:\n",
    "            if unfound:\n",
    "                for name, op in unfound:\n",
    "                    temp[name] = op\n",
    "                unfound = []\n",
    "                continue\n",
    "            else:\n",
    "                break\n",
    "        if isinstance(op, int):\n",
    "            node = Node(name)\n",
    "            node.value = op\n",
    "            tree[node.name] = node\n",
    "            continue\n",
    "        else:\n",
    "            left, oper, right = op\n",
    "            if left in tree and right in tree:\n",
    "                node = Node(name)\n",
    "                node.left = tree[left]\n",
    "                node.right = tree[right]\n",
    "                node.operation = oper\n",
    "                tree[node.name] = node\n",
    "            else:\n",
    "                unfound.append((name, op))\n",
    "    return tree['root']\n",
    "\n",
    "root = create_tree(temp)"
   ]
  },
  {
   "cell_type": "markdown",
   "id": "90e19f6f",
   "metadata": {},
   "source": [
    "To calculate the value of the tree, I recursively go through the tree.\n",
    "\n",
    "1. If the node has a value, we return the value\n",
    "2. If not, we return the result of the left subtree and right subtree with our operation"
   ]
  },
  {
   "cell_type": "code",
   "execution_count": 3,
   "id": "4148d816",
   "metadata": {},
   "outputs": [],
   "source": [
    "def calculate(node):\n",
    "    if node.value:\n",
    "        return node.value\n",
    "    \n",
    "    match node.operation:\n",
    "        case '+':\n",
    "            return calculate(node.left) + calculate(node.right)\n",
    "        case '-':\n",
    "            return calculate(node.left) - calculate(node.right)\n",
    "        case '/':\n",
    "            return calculate(node.left) // calculate(node.right)\n",
    "        case '*':\n",
    "            return calculate(node.left) * calculate(node.right)"
   ]
  },
  {
   "cell_type": "markdown",
   "id": "680e7802",
   "metadata": {},
   "source": [
    "## Part 1\n",
    "\n",
    "> **What number will the monkey named root yell?**"
   ]
  },
  {
   "cell_type": "code",
   "execution_count": 4,
   "id": "5366ab6a",
   "metadata": {},
   "outputs": [
    {
     "name": "stdout",
     "output_type": "stream",
     "text": [
      "Part 1: 31017034894002\n"
     ]
    }
   ],
   "source": [
    "result = calculate(root)\n",
    "print(f'Part 1: {result}')\n",
    "assert result == 31017034894002"
   ]
  },
  {
   "cell_type": "markdown",
   "id": "609218c8",
   "metadata": {},
   "source": [
    "## Part 2\n",
    "\n",
    ">Due to some kind of monkey-elephant-human mistranslation, you seem to have misunderstood a few key details about the riddle.\n",
    ">\n",
    ">First, you got the wrong job for the monkey named root; specifically, you got the wrong math operation. The correct operation for monkey root should be =, which means that it still listens for two numbers (from the same two monkeys as before), but now checks that the two numbers match.\n",
    ">\n",
    ">Second, you got the wrong monkey for the job starting with humn:. It isn't a monkey - it's you. Actually, you got the job wrong, too: you need to figure out what number you need to yell so that root's equality check passes. (The number that appears after humn: in your input is now irrelevant.)\n",
    ">\n",
    ">In the above example, the number you need to yell to pass root's equality test is 301. (This causes root to get the same number, 150, from both of its monkeys.)\n",
    ">\n",
    ">**What number do you yell to pass root's equality test?**"
   ]
  },
  {
   "cell_type": "markdown",
   "id": "1cddbd28",
   "metadata": {},
   "source": [
    "Part 2 requires a bit more of exploration. I decided to solve it with an approach that checks which subtree (`left` or `right`) the `humn` node is, then calculate the value of the other subtree and with some inverse math, calculate a new target value to pass down, until we find the `humn` node.\n",
    "\n",
    "`is_child` is a depth-first search that goes through all the nodes from left to right until it finds node with name `humn`."
   ]
  },
  {
   "cell_type": "code",
   "execution_count": 5,
   "id": "855cbbc5",
   "metadata": {},
   "outputs": [],
   "source": [
    "def is_child(root):\n",
    "    if root.name == 'humn':\n",
    "        return True\n",
    "    if root.value is not None:\n",
    "        return False\n",
    "    return is_child(root.left) or is_child(root.right)"
   ]
  },
  {
   "cell_type": "markdown",
   "id": "cbd001b2",
   "metadata": {},
   "source": [
    "This is not the most efficient approach since every time I go down one level, I search the entire subtree again. There's probably a way to build a path to the right node on the first run and then just follow that.\n",
    "\n",
    "In `correct`, I check if the left or right subtree has the right node, then calculate the new target value based on the operation and the value of the other subtree."
   ]
  },
  {
   "cell_type": "markdown",
   "id": "ecec05e4",
   "metadata": {},
   "source": [
    "## The inverse math\n",
    "\n",
    "There are generally 1-2 different cases we can have for each operation.\n",
    "\n",
    "To go through all the options, I'm using a notation where `t` is our target value, `C` is a known value (the result of the other subtree) and `x` is our unknown value.\n",
    "\n",
    "### case `+`\n",
    "```\n",
    "  t\n",
    " / \\\n",
    "x   C\n",
    "```\n",
    "In the first case, our unkwown is on the left subtree. To calculate what that subtree needs to become, we need to solve the equation `t = x+C` for `x`, which becomes `x = t-C`.\n",
    "```\n",
    "  t\n",
    " / \\\n",
    "C   x\n",
    "```\n",
    "In the second case, our unknown is on the right subtree. `t = C+x`, solved to `x` is the same `x = t-C`. \n",
    "\n",
    "So regardless, when the parent has `+` operation, we calculate it by subtracting the known `C` value from it. And because the operation is `+`, we take the absolute value `|t-C|` to stay positive.\n",
    "\n",
    "### case `-`\n",
    "```\n",
    "  t\n",
    " / \\\n",
    "x   C\n",
    "```\n",
    "For subtraction, we solve for `t = x-C` which becomes `x = t+C`. \n",
    "```\n",
    "  t\n",
    " / \\\n",
    "C   x\n",
    "```\n",
    "For the second case, we solve for `t = C-x` which becomes `x = C-t`.\n",
    "\n",
    "### case `*`\n",
    "```\n",
    "  t\n",
    " / \\\n",
    "x   C\n",
    "```\n",
    "For the multiplication, first case is `t = x*C` which becomes `x = t/C`\n",
    "```\n",
    "  t\n",
    " / \\\n",
    "C   x\n",
    "```\n",
    "And the second case is the same: `t = C*x` -> `x = t/C`\n",
    "\n",
    "### case `/`\n",
    "```\n",
    "  t\n",
    " / \\\n",
    "x   C\n",
    "```\n",
    "For division, first case is `t = x/C` -> `x = t*C`\n",
    "```\n",
    "  t\n",
    " / \\\n",
    "C   x\n",
    "```\n",
    "and second case is `t = C/x` -> `x = C/t`"
   ]
  },
  {
   "cell_type": "code",
   "execution_count": 6,
   "id": "6a5fa603",
   "metadata": {},
   "outputs": [],
   "source": [
    "def correct(node, target):\n",
    "    if is_child(node.left):\n",
    "        value = calculate(node.right)\n",
    "        match node.operation:\n",
    "            case '+':\n",
    "                new_target = abs(target - value)\n",
    "            case '-':\n",
    "                new_target = target + value\n",
    "            case '/':\n",
    "                new_target = target * value\n",
    "            case '*':\n",
    "                new_target = target // value\n",
    "        new_path = node.left\n",
    "        if node.left.name == 'humn':\n",
    "            return new_target\n",
    "        else:\n",
    "            return correct(new_path, new_target)\n",
    "    else:\n",
    "        value = calculate(node.left)\n",
    "        match node.operation:\n",
    "            case '+':\n",
    "                new_target = abs(value - target)\n",
    "            case '-':\n",
    "                new_target = value - target\n",
    "            case '/':\n",
    "                new_target = value // target\n",
    "            case '*':\n",
    "                new_target = target // value\n",
    "        new_path = node.right\n",
    "        if node.right.name == 'humn':\n",
    "            return new_target\n",
    "        else:\n",
    "            return correct(new_path, new_target)\n",
    "\n",
    "def solve2(root):\n",
    "    if is_child(root.left):\n",
    "        return correct(root.left, calculate(root.right))\n",
    "    else:\n",
    "        return correct(root.right, calculate(root.left))"
   ]
  },
  {
   "cell_type": "code",
   "execution_count": 7,
   "id": "234c0272",
   "metadata": {},
   "outputs": [
    {
     "name": "stdout",
     "output_type": "stream",
     "text": [
      "Part 2: 3555057453229\n"
     ]
    }
   ],
   "source": [
    "part2 = solve2(root)\n",
    "print(f'Part 2: {part2}')\n",
    "assert part2 == 3555057453229"
   ]
  }
 ],
 "metadata": {
  "kernelspec": {
   "display_name": "Python 3 (ipykernel)",
   "language": "python",
   "name": "python3"
  },
  "language_info": {
   "codemirror_mode": {
    "name": "ipython",
    "version": 3
   },
   "file_extension": ".py",
   "mimetype": "text/x-python",
   "name": "python",
   "nbconvert_exporter": "python",
   "pygments_lexer": "ipython3",
   "version": "3.10.0"
  }
 },
 "nbformat": 4,
 "nbformat_minor": 5
}
