{
 "cells": [
  {
   "cell_type": "markdown",
   "id": "a7b46666",
   "metadata": {},
   "source": [
    "# Day 13 - Distress Signal\n",
    "\n",
    ">You climb the hill and again try contacting the Elves. However, you instead receive a signal you weren't expecting: a distress signal.\n",
    ">\n",
    ">Your handheld device must still not be working properly; the packets from the distress signal got decoded out of order. You'll need to re-order the list of received packets (your puzzle input) to decode the message.\n",
    ">\n",
    ">Your list consists of pairs of packets; pairs are separated by a blank line. You need to identify how many pairs of packets are in the right order.\n",
    ">\n",
    ">For example:\n",
    ">```\n",
    ">[1,1,3,1,1]\n",
    ">[1,1,5,1,1]\n",
    ">\n",
    ">[[1],[2,3,4]]\n",
    ">[[1],4]\n",
    ">\n",
    ">[9]\n",
    ">[[8,7,6]]\n",
    ">\n",
    ">[[4,4],4,4]\n",
    ">[[4,4],4,4,4]\n",
    ">\n",
    ">[7,7,7,7]\n",
    ">[7,7,7]\n",
    ">\n",
    ">[]\n",
    ">[3]\n",
    ">\n",
    ">[[[]]]\n",
    ">[[]]\n",
    ">\n",
    ">[1,[2,[3,[4,[5,6,7]]]],8,9]\n",
    ">[1,[2,[3,[4,[5,6,0]]]],8,9]\n",
    ">```\n",
    ">Packet data consists of lists and integers. Each list starts with [, ends with ], and contains zero or more comma-separated values (either integers or other lists). Each packet is always a list and appears on its own line.\n",
    ">\n",
    ">When comparing two values, the first value is called left and the second value is called right. Then:\n",
    ">\n",
    ">- If both values are integers, the lower integer should come first. If the left integer is lower than the right integer, the inputs are in the right order. If the left integer is higher than the right integer, the inputs are not in the right order. Otherwise, the inputs are the same integer; continue checking the next part of the input.\n",
    ">- If both values are lists, compare the first value of each list, then the second value, and so on. If the left list runs out of items first, the inputs are in the right order. If the right list runs out of items first, the inputs are not in the right order. If the lists are the same length and no comparison makes a decision about the order, continue checking the next part of the input.\n",
    ">- If exactly one value is an integer, convert the integer to a list which contains that integer as its only value, then retry the comparison. For example, if comparing [0,0,0] and 2, convert the right value to [2] (a list containing 2); the result is then found by instead comparing [0,0,0] and [2].\n",
    ">\n",
    ">Using these rules, you can determine which of the pairs in the example are in the right order:\n",
    ">```\n",
    ">== Pair 1 ==\n",
    ">- Compare [1,1,3,1,1] vs [1,1,5,1,1]\n",
    ">  - Compare 1 vs 1\n",
    ">  - Compare 1 vs 1\n",
    ">  - Compare 3 vs 5\n",
    ">    - Left side is smaller, so inputs are in the right order\n",
    ">\n",
    ">== Pair 2 ==\n",
    ">- Compare [[1],[2,3,4]] vs [[1],4]\n",
    ">  - Compare [1] vs [1]\n",
    ">    - Compare 1 vs 1\n",
    ">  - Compare [2,3,4] vs 4\n",
    ">    - Mixed types; convert right to [4] and retry comparison\n",
    ">    - Compare [2,3,4] vs [4]\n",
    ">      - Compare 2 vs 4\n",
    ">        - Left side is smaller, so inputs are in the right order\n",
    ">\n",
    ">== Pair 3 ==\n",
    ">- Compare [9] vs [[8,7,6]]\n",
    ">  - Compare 9 vs [8,7,6]\n",
    ">    - Mixed types; convert left to [9] and retry comparison\n",
    ">    - Compare [9] vs [8,7,6]\n",
    ">      - Compare 9 vs 8\n",
    ">        - Right side is smaller, so inputs are not in the right order\n",
    ">\n",
    ">== Pair 4 ==\n",
    ">- Compare [[4,4],4,4] vs [[4,4],4,4,4]\n",
    ">  - Compare [4,4] vs [4,4]\n",
    ">    - Compare 4 vs 4\n",
    ">    - Compare 4 vs 4\n",
    ">  - Compare 4 vs 4\n",
    ">  - Compare 4 vs 4\n",
    ">  - Left side ran out of items, so inputs are in the right order\n",
    ">\n",
    ">== Pair 5 ==\n",
    ">- Compare [7,7,7,7] vs [7,7,7]\n",
    ">  - Compare 7 vs 7\n",
    ">  - Compare 7 vs 7\n",
    ">  - Compare 7 vs 7\n",
    ">  - Right side ran out of items, so inputs are not in the right order\n",
    ">\n",
    ">== Pair 6 ==\n",
    ">- Compare [] vs [3]\n",
    ">  - Left side ran out of items, so inputs are in the right order\n",
    ">\n",
    ">== Pair 7 ==\n",
    ">- Compare [[[]]] vs [[]]\n",
    ">  - Compare [[]] vs []\n",
    ">    - Right side ran out of items, so inputs are not in the right order\n",
    ">\n",
    ">== Pair 8 ==\n",
    ">- Compare [1,[2,[3,[4,[5,6,7]]]],8,9] vs [1,[2,[3,[4,[5,6,0]]]],8,9]\n",
    ">  - Compare 1 vs 1\n",
    ">  - Compare [2,[3,[4,[5,6,7]]]] vs [2,[3,[4,[5,6,0]]]]\n",
    ">    - Compare 2 vs 2\n",
    ">    - Compare [3,[4,[5,6,7]]] vs [3,[4,[5,6,0]]]\n",
    ">      - Compare 3 vs 3\n",
    ">      - Compare [4,[5,6,7]] vs [4,[5,6,0]]\n",
    ">        - Compare 4 vs 4\n",
    ">        - Compare [5,6,7] vs [5,6,0]\n",
    ">          - Compare 5 vs 5\n",
    ">          - Compare 6 vs 6\n",
    ">          - Compare 7 vs 0\n",
    ">            - Right side is smaller, so inputs are not in the right order\n",
    ">```\n",
    ">What are the indices of the pairs that are already in the right order? (The first pair has index 1, the second pair has index 2, and so on.) In the above example, the pairs in the right order are 1, 2, 4, and 6; the sum of these indices is 13.\n",
    ">\n",
    ">Determine which pairs of packets are already in the right order. **What is the sum of the indices of those pairs?**"
   ]
  },
  {
   "cell_type": "markdown",
   "id": "d5b40d52",
   "metadata": {},
   "source": [
    "## Read input\n",
    "\n",
    "Our input today consists of multiple pairs of valid JSON arrays. So first I read each section (my `read_multisection_input` kinda broke at some point and I'm afraid to touch it because I don't remember which of this year's solutions broke it) and then parse them as JSON into pairs."
   ]
  },
  {
   "cell_type": "code",
   "execution_count": 110,
   "id": "9dd536f6",
   "metadata": {},
   "outputs": [],
   "source": [
    "from utils import read_multisection_input\n",
    "import json\n",
    "\n",
    "def transformer(section):\n",
    "    lines = section.split('\\n')\n",
    "    return [json.loads(line) for line in lines]\n",
    "\n",
    "sections = read_multisection_input(13, str)\n",
    "pairs = [transformer(section) for section in sections]"
   ]
  },
  {
   "cell_type": "markdown",
   "id": "ca4dde44",
   "metadata": {},
   "source": [
    "## Part 1\n",
    "\n",
    "First, we need a compare function. As you can maybe see from the docstring, I built this in a very TDD-manner and that was a blessing since it helped me increase the complexity little by little without having to worry if everything was still working correctly. Especially because my solution is recursive and if you've been following along, that's a challenge for me.\n",
    "\n",
    "I started with the basic rules provided by the instruction, then followed them with tests for the example input and once everything passed, I was good to go.\n",
    "\n",
    "Originally, my part 1 compare function returned `True`/`False`/`None` (probably should have realized at that point that an integer solution was the way to go). When I learned about part 2, I refactored it to function as a proper compare function.\n",
    "\n",
    "## How do compare functions work?\n",
    "\n",
    "A compare function (I guess in most languages?) work in a way that it takes two inputs, in this case `left` and `right` and returns a negative number if `left` is smaller, a positive number if `right` is smaller and 0 if they are equal.\n",
    "\n",
    "With integers here (either number itself or length of a list), we can just do subtract operations. That cleans up that code a lot. I used to have if/elif/else cases in the original solution where I now have a single subtract."
   ]
  },
  {
   "cell_type": "code",
   "execution_count": 115,
   "id": "1e4f7796",
   "metadata": {},
   "outputs": [],
   "source": [
    "def compare(left, right):\n",
    "    \"\"\"\n",
    "    >>> compare(1, 2)\n",
    "    -1\n",
    "    >>> compare(2, 1)\n",
    "    1\n",
    "    >>> compare([2, 2], [2, 1])\n",
    "    1\n",
    "    >>> compare([1, 1], [1, 2])\n",
    "    -1\n",
    "    >>> compare([1], [1, 2])\n",
    "    -1\n",
    "    >>> compare([1, 2], [1])\n",
    "    1\n",
    "    >>> compare(1, [2])\n",
    "    -1\n",
    "    >>> compare([1], 2)\n",
    "    -1\n",
    "    >>> compare(2, [1])\n",
    "    1\n",
    "    >>> compare([2], 1)\n",
    "    1\n",
    "    >>> compare([1,1,3,1,1], [1,1,5,1,1])\n",
    "    -2\n",
    "    >>> compare([[1],[2,3,4]], [[1],4])\n",
    "    -2\n",
    "    >>> compare([9], [[8,7,6]])\n",
    "    1\n",
    "    >>> compare([[4,4],4,4], [[4,4],4,4,4])\n",
    "    -1\n",
    "    >>> compare([7,7,7,7], [7,7,7])\n",
    "    1\n",
    "    >>> compare([], [3])\n",
    "    -1\n",
    "    >>> compare([[[]]], [[]])\n",
    "    1\n",
    "    >>> compare([1,[2,[3,[4,[5,6,7]]]],8,9], [1,[2,[3,[4,[5,6,0]]]],8,9])\n",
    "    7\n",
    "    \"\"\"\n",
    "    if isinstance(left, int) and isinstance(right, int):\n",
    "        return left - right\n",
    "    elif isinstance(left, list) and isinstance(right, list):\n",
    "        res = 0\n",
    "        index = 0\n",
    "        while res == 0:\n",
    "            try:\n",
    "                res = compare(left[index], right[index])\n",
    "                index += 1\n",
    "            except IndexError:\n",
    "                return len(left) - len(right)\n",
    "        return res\n",
    "    elif isinstance(left, int) and isinstance(right, list):\n",
    "        return compare([left], right)\n",
    "    elif isinstance(left, list) and isinstance(right, int):\n",
    "        return compare(left, [right])"
   ]
  },
  {
   "cell_type": "code",
   "execution_count": 116,
   "id": "679c9a05",
   "metadata": {},
   "outputs": [
    {
     "data": {
      "text/plain": [
       "TestResults(failed=0, attempted=18)"
      ]
     },
     "execution_count": 116,
     "metadata": {},
     "output_type": "execute_result"
    }
   ],
   "source": [
    "import doctest\n",
    "doctest.testmod()"
   ]
  },
  {
   "cell_type": "code",
   "execution_count": 117,
   "id": "d5912f7a",
   "metadata": {},
   "outputs": [
    {
     "name": "stdout",
     "output_type": "stream",
     "text": [
      "Part 1: 6235\n"
     ]
    }
   ],
   "source": [
    "results = [compare(*pair) for pair in pairs]\n",
    "sum_of_indices = sum(i+1 for i, res in enumerate(results) if res < 0)\n",
    "\n",
    "print(f'Part 1: {sum_of_indices}')\n",
    "assert sum_of_indices == 6235"
   ]
  },
  {
   "cell_type": "markdown",
   "id": "a2e32476",
   "metadata": {},
   "source": [
    "## Part 2"
   ]
  },
  {
   "cell_type": "code",
   "execution_count": 118,
   "id": "b8edea3f",
   "metadata": {},
   "outputs": [
    {
     "name": "stdout",
     "output_type": "stream",
     "text": [
      "Part 2: 22866\n"
     ]
    }
   ],
   "source": [
    "from functools import cmp_to_key\n",
    "\n",
    "DIVIDER_1 = [[2]]\n",
    "DIVIDER_2 = [[6]]\n",
    "\n",
    "def combine(pairs):\n",
    "    all_signals = [DIVIDER_1, DIVIDER_2]\n",
    "    for a, b in pairs:\n",
    "        all_signals.append(a)\n",
    "        all_signals.append(b)\n",
    "    return all_signals\n",
    "\n",
    "correct_signals = sorted(combine(pairs), key=cmp_to_key(compare))\n",
    "correct_signals\n",
    "\n",
    "decoder_key = (correct_signals.index(DIVIDER_1) + 1) * (correct_signals.index(DIVIDER_2) + 1)\n",
    "\n",
    "print(f'Part 2: {decoder_key}')\n",
    "assert decoder_key == 22866"
   ]
  }
 ],
 "metadata": {
  "kernelspec": {
   "display_name": "Python 3 (ipykernel)",
   "language": "python",
   "name": "python3"
  },
  "language_info": {
   "codemirror_mode": {
    "name": "ipython",
    "version": 3
   },
   "file_extension": ".py",
   "mimetype": "text/x-python",
   "name": "python",
   "nbconvert_exporter": "python",
   "pygments_lexer": "ipython3",
   "version": "3.10.0"
  }
 },
 "nbformat": 4,
 "nbformat_minor": 5
}
